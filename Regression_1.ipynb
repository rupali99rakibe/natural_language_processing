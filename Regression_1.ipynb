{
 "cells": [
  {
   "cell_type": "code",
   "execution_count": 1,
   "id": "7b860e42-9652-4ad1-9d52-a5afbae24e19",
   "metadata": {},
   "outputs": [],
   "source": [
    "import re"
   ]
  },
  {
   "cell_type": "code",
   "execution_count": 2,
   "id": "f02401d1-337d-49ca-b956-c203150f9630",
   "metadata": {},
   "outputs": [],
   "source": [
    "r = \"\"\"Python was conceived in the late 1980s[40] by Guido van Rossum at Centrum Wiskunde & Informatica (CWI)\n",
    "in the Netherlands as a successor to the ABC programming language, which was inspired by SETL,[41] \n",
    "capable of exception handling and interfacing with the Amoeba operating system.[10] \n",
    "Its implementation began in December 1989.[42] Van Rossum shouldered sole responsibility for the project, \n",
    "as the lead developer, until 12 July 2018, when he announced his \"permanent vacation\" from his\n",
    "responsibilities as Python's \"benevolent dictator for life\", a title the Python community bestowed \n",
    "upon him to reflect his long-term commitment as the project's chief decision-maker.\n",
    "[43] In January 2019, active Python core developers elected a five-member Steering Council to lead the project.\"\"\""
   ]
  },
  {
   "cell_type": "code",
   "execution_count": 3,
   "id": "47c6c7ae-45d6-403b-a351-5276b9c80142",
   "metadata": {},
   "outputs": [
    {
     "data": {
      "text/plain": [
       "['1980', '1989', '2018', '2019']"
      ]
     },
     "execution_count": 3,
     "metadata": {},
     "output_type": "execute_result"
    }
   ],
   "source": [
    "#  access year\n",
    "pattern_1 = \"\\d{4}\"\n",
    "re.findall(pattern_1,r)"
   ]
  },
  {
   "cell_type": "code",
   "execution_count": 4,
   "id": "24b57f3b-8db2-4daf-bffa-352b492f59ba",
   "metadata": {},
   "outputs": [
    {
     "data": {
      "text/plain": [
       "['late 1980', 'December 1989', 'July 2018', 'January 2019']"
      ]
     },
     "execution_count": 4,
     "metadata": {},
     "output_type": "execute_result"
    }
   ],
   "source": [
    "# access month and year\n",
    "pattern_2 = \"[a-zA-Z]+ \\d{4}\"\n",
    "re.findall(pattern_2,r)"
   ]
  },
  {
   "cell_type": "code",
   "execution_count": 5,
   "id": "3ed5cdf0-5e27-4586-958c-60541babfc87",
   "metadata": {},
   "outputs": [
    {
     "data": {
      "text/plain": [
       "['Python',\n",
       " 'Guido',\n",
       " 'Rossum',\n",
       " 'Centrum',\n",
       " 'Wiskunde',\n",
       " 'Informatica',\n",
       " 'CWI',\n",
       " 'Netherlands',\n",
       " 'ABC',\n",
       " 'SETL',\n",
       " 'Amoeba',\n",
       " 'Its',\n",
       " 'December',\n",
       " 'Van',\n",
       " 'Rossum',\n",
       " 'July',\n",
       " 'Python',\n",
       " 'Python',\n",
       " 'In',\n",
       " 'January',\n",
       " 'Python',\n",
       " 'Steering',\n",
       " 'Council']"
      ]
     },
     "execution_count": 5,
     "metadata": {},
     "output_type": "execute_result"
    }
   ],
   "source": [
    "#  starts with capital letter\n",
    "pattern_3 = \"[A-Z]\\w+\"\n",
    "re.findall(pattern_3,r)"
   ]
  },
  {
   "cell_type": "code",
   "execution_count": 6,
   "id": "33b5c931-775e-4b5c-9291-92c192cfb7fa",
   "metadata": {},
   "outputs": [
    {
     "data": {
      "text/plain": [
       "['[40]', '[41]', '[10]', '[42]', '[43]']"
      ]
     },
     "execution_count": 6,
     "metadata": {},
     "output_type": "execute_result"
    }
   ],
   "source": [
    "# access in sqare bracket digit with square bracket\n",
    "pattern_4 = \"\\[\\d{2}\\]\"\n",
    "re.findall(pattern_4,r)"
   ]
  },
  {
   "cell_type": "code",
   "execution_count": 7,
   "id": "3c714aee-09ad-4b29-987e-609d7df9ea18",
   "metadata": {},
   "outputs": [
    {
     "data": {
      "text/plain": [
       "['\"permanent vacation\"']"
      ]
     },
     "execution_count": 7,
     "metadata": {},
     "output_type": "execute_result"
    }
   ],
   "source": [
    "# access string \n",
    "pattern_5 = \"\\\"[a-z]\\w+ [$a-z]\\w+\\\"\"\n",
    "re.findall(pattern_5,r)"
   ]
  },
  {
   "cell_type": "code",
   "execution_count": 8,
   "id": "c0c4b4c5-8d64-439a-ae5c-4022ac6517d6",
   "metadata": {},
   "outputs": [
    {
     "data": {
      "text/plain": [
       "['the ', 'the ', 'the ', 'the ', 'the ', 'the ', 'the ', 'the ', 'the ']"
      ]
     },
     "execution_count": 8,
     "metadata": {},
     "output_type": "execute_result"
    }
   ],
   "source": [
    "# find only the\n",
    "pattern_6 = \"the \"\n",
    "re.findall(pattern_6,r)"
   ]
  },
  {
   "cell_type": "code",
   "execution_count": 9,
   "id": "cffe6892-6523-4f56-9076-0e4935a7f5bb",
   "metadata": {},
   "outputs": [
    {
     "data": {
      "text/plain": [
       "['t ', 't ', 't ', 't ', 't ']"
      ]
     },
     "execution_count": 9,
     "metadata": {},
     "output_type": "execute_result"
    }
   ],
   "source": [
    "pattern_7 = \"t{1,5} \"\n",
    "re.findall(pattern_7,r)"
   ]
  },
  {
   "cell_type": "code",
   "execution_count": 10,
   "id": "4581ade9-e19a-4b06-9e39-6c1563d93716",
   "metadata": {},
   "outputs": [],
   "source": [
    "# pattern_8 = \"t*[A-z]\\w+\"\n",
    "# re.findall(pattern_8,r)"
   ]
  },
  {
   "cell_type": "code",
   "execution_count": 11,
   "id": "916b9e50-e087-49aa-9851-2ee316d8390b",
   "metadata": {},
   "outputs": [
    {
     "data": {
      "text/plain": [
       "['thon ',\n",
       " 'the ',\n",
       " 'trum ',\n",
       " 'tica ',\n",
       " 'the ',\n",
       " 'therlands ',\n",
       " 'the ',\n",
       " 'tion ',\n",
       " 'terfacing ',\n",
       " 'the ',\n",
       " 'ting ',\n",
       " 'tation ',\n",
       " 'the ',\n",
       " 'the ',\n",
       " 'til ',\n",
       " 'ties ',\n",
       " 'tator ',\n",
       " 'title ',\n",
       " 'the ',\n",
       " 'thon ',\n",
       " 'towed ',\n",
       " 'term ',\n",
       " 'tment ',\n",
       " 'the ',\n",
       " 'tive ',\n",
       " 'thon ',\n",
       " 'ted ',\n",
       " 'teering ',\n",
       " 'the ']"
      ]
     },
     "execution_count": 11,
     "metadata": {},
     "output_type": "execute_result"
    }
   ],
   "source": [
    "pattern_9 = \"t[A-z]\\w+ \"\n",
    "re.findall(pattern_9,r)"
   ]
  },
  {
   "cell_type": "code",
   "execution_count": null,
   "id": "7dcd2d8e-b40e-4f82-bc3f-ca100b9b4a36",
   "metadata": {},
   "outputs": [],
   "source": []
  }
 ],
 "metadata": {
  "kernelspec": {
   "display_name": "Python 3 (ipykernel)",
   "language": "python",
   "name": "python3"
  },
  "language_info": {
   "codemirror_mode": {
    "name": "ipython",
    "version": 3
   },
   "file_extension": ".py",
   "mimetype": "text/x-python",
   "name": "python",
   "nbconvert_exporter": "python",
   "pygments_lexer": "ipython3",
   "version": "3.11.7"
  },
  "widgets": {
   "application/vnd.jupyter.widget-state+json": {
    "state": {},
    "version_major": 2,
    "version_minor": 0
   }
  }
 },
 "nbformat": 4,
 "nbformat_minor": 5
}
