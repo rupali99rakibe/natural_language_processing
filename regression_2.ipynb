{
 "cells": [
  {
   "cell_type": "code",
   "execution_count": 1,
   "id": "8152cdc2-4d1a-4fa5-a099-b5034701b71b",
   "metadata": {},
   "outputs": [],
   "source": [
    "import re"
   ]
  },
  {
   "cell_type": "code",
   "execution_count": 13,
   "id": "8e0752cb-767c-477f-94e3-3cfabf757851",
   "metadata": {},
   "outputs": [],
   "source": [
    "a = \"\"\"file\n",
    "    file1\n",
    "    file2\"\"\""
   ]
  },
  {
   "cell_type": "code",
   "execution_count": 18,
   "id": "9a38ff87-4023-4797-ac30-5d41f876a0d4",
   "metadata": {},
   "outputs": [
    {
     "data": {
      "text/plain": [
       "['', '1', '2']"
      ]
     },
     "execution_count": 18,
     "metadata": {},
     "output_type": "execute_result"
    }
   ],
   "source": [
    "pattern = \"file(1|2)?\"\n",
    "re.findall(pattern,a)"
   ]
  },
  {
   "cell_type": "code",
   "execution_count": 17,
   "id": "513c1d5f-76c5-4237-abe3-7e2e83632de5",
   "metadata": {},
   "outputs": [
    {
     "data": {
      "text/plain": [
       "['file', 'file1', 'file2']"
      ]
     },
     "execution_count": 17,
     "metadata": {},
     "output_type": "execute_result"
    }
   ],
   "source": [
    "pattern = \"file\\d?\"\n",
    "re.findall(pattern,a)"
   ]
  },
  {
   "cell_type": "code",
   "execution_count": 19,
   "id": "601c2251-58ac-4b3b-8ac2-5852215b3ded",
   "metadata": {},
   "outputs": [],
   "source": [
    "b = \"\"\"file1.xml\n",
    "file1.txt\n",
    "file2.txt\n",
    "file15.xml\n",
    "file5.docx\n",
    "file60.txt\n",
    "file5.txt\"\"\""
   ]
  },
  {
   "cell_type": "code",
   "execution_count": 20,
   "id": "bb44680a-522a-408e-b15c-9b97ec5fdc51",
   "metadata": {},
   "outputs": [
    {
     "data": {
      "text/plain": [
       "['file1.xml',\n",
       " 'file1.txt',\n",
       " 'file2.txt',\n",
       " 'file15.xml',\n",
       " 'file5.docx',\n",
       " 'file60.txt',\n",
       " 'file5.txt']"
      ]
     },
     "execution_count": 20,
     "metadata": {},
     "output_type": "execute_result"
    }
   ],
   "source": [
    "# access all files\n",
    "pattern = \"file\\d+.[a-z]+\"\n",
    "re.findall(pattern,b)"
   ]
  },
  {
   "cell_type": "code",
   "execution_count": 21,
   "id": "dcd64678-f5ef-471b-b711-085e0e010b48",
   "metadata": {},
   "outputs": [
    {
     "data": {
      "text/plain": [
       "['file1.txt', 'file2.txt', 'file60.txt', 'file5.txt']"
      ]
     },
     "execution_count": 21,
     "metadata": {},
     "output_type": "execute_result"
    }
   ],
   "source": [
    "# access only txt files\n",
    "pattern = \"file\\d+.txt\"\n",
    "re.findall(pattern,b)"
   ]
  },
  {
   "cell_type": "code",
   "execution_count": 22,
   "id": "8434d682-3b55-4a79-8eb1-e22f8eef60bc",
   "metadata": {},
   "outputs": [
    {
     "data": {
      "text/plain": [
       "['file1.txt', 'file2.txt', 'file60.txt', 'file5.txt']"
      ]
     },
     "execution_count": 22,
     "metadata": {},
     "output_type": "execute_result"
    }
   ],
   "source": [
    "# access file \".\" convert into an literalcharacter/ordinary character\n",
    "pattern = \"file\\d+\\.txt\"\n",
    "re.findall(pattern,b)\n",
    "# here\n",
    "# file,.,txt are a literal character\n",
    "# \\,d,+ are metacharacter"
   ]
  },
  {
   "cell_type": "code",
   "execution_count": 23,
   "id": "5936bbac-df0e-47db-b4a0-64c129e669bf",
   "metadata": {},
   "outputs": [],
   "source": [
    "pattern = re.compile(\"hello\")"
   ]
  },
  {
   "cell_type": "code",
   "execution_count": 25,
   "id": "94ed5ffe-1a84-4f84-bb74-d43a79e59459",
   "metadata": {},
   "outputs": [],
   "source": [
    "match = pattern.match(\"hello\")"
   ]
  },
  {
   "cell_type": "code",
   "execution_count": 26,
   "id": "a720543a-3194-4892-9d73-c643b141c9e9",
   "metadata": {},
   "outputs": [
    {
     "data": {
      "text/plain": [
       "<re.Match object; span=(0, 5), match='hello'>"
      ]
     },
     "execution_count": 26,
     "metadata": {},
     "output_type": "execute_result"
    }
   ],
   "source": [
    "match"
   ]
  },
  {
   "cell_type": "code",
   "execution_count": 27,
   "id": "6040502e-5b52-4ea9-b35f-53d61e5200de",
   "metadata": {},
   "outputs": [
    {
     "data": {
      "text/plain": [
       "(0, 5)"
      ]
     },
     "execution_count": 27,
     "metadata": {},
     "output_type": "execute_result"
    }
   ],
   "source": [
    "match.span()"
   ]
  },
  {
   "cell_type": "code",
   "execution_count": 28,
   "id": "06f9aafc-a375-4a80-a69b-147fd3843947",
   "metadata": {},
   "outputs": [
    {
     "data": {
      "text/plain": [
       "<re.Match object; span=(0, 5), match='hello'>"
      ]
     },
     "execution_count": 28,
     "metadata": {},
     "output_type": "execute_result"
    }
   ],
   "source": [
    "pattern.search(\"hello\")"
   ]
  },
  {
   "cell_type": "code",
   "execution_count": 29,
   "id": "011c741f-a9de-4044-a587-08ae071f9269",
   "metadata": {},
   "outputs": [
    {
     "data": {
      "text/plain": [
       "(0, 5)"
      ]
     },
     "execution_count": 29,
     "metadata": {},
     "output_type": "execute_result"
    }
   ],
   "source": [
    "(pattern.search(\"hello\")).span()"
   ]
  },
  {
   "cell_type": "code",
   "execution_count": 36,
   "id": "37bc1601-8c23-4e99-b7f3-0ad67450cfef",
   "metadata": {},
   "outputs": [],
   "source": [
    "pattern = re.compile(\"say hello\")\n",
    "search = pattern.search(\"say\")\n",
    "search"
   ]
  },
  {
   "cell_type": "code",
   "execution_count": 42,
   "id": "85314bb9-5d50-4162-a4e7-f563d35fe932",
   "metadata": {},
   "outputs": [
    {
     "data": {
      "text/plain": [
       "[]"
      ]
     },
     "execution_count": 42,
     "metadata": {},
     "output_type": "execute_result"
    }
   ],
   "source": [
    "pattern = re.compile(\"say hello\")\n",
    "matches = re.findall(pattern,\"hello\")\n",
    "matches"
   ]
  },
  {
   "cell_type": "code",
   "execution_count": 40,
   "id": "59c6e074-7ad2-447f-b7a6-6e19fbada30b",
   "metadata": {},
   "outputs": [
    {
     "name": "stdout",
     "output_type": "stream",
     "text": [
      "['hello']\n"
     ]
    }
   ],
   "source": [
    "pattern = re.compile(\"hello\")\n",
    "matches = re.findall(pattern, \"hello\")\n",
    "print(matches)"
   ]
  },
  {
   "cell_type": "code",
   "execution_count": 43,
   "id": "13ca7cc1-77bf-4c20-ab36-c535e1926974",
   "metadata": {},
   "outputs": [
    {
     "name": "stdout",
     "output_type": "stream",
     "text": [
      "['say hello', 'say hello']\n"
     ]
    }
   ],
   "source": [
    "pattern = re.compile(\"say hello\")\n",
    "matches = re.findall(pattern, \"say hello world, say hello!\")\n",
    "print(matches)  "
   ]
  },
  {
   "cell_type": "code",
   "execution_count": 44,
   "id": "1547d8c2-e861-4816-8907-c6e01011236f",
   "metadata": {},
   "outputs": [
    {
     "data": {
      "text/plain": [
       "callable_iterator"
      ]
     },
     "execution_count": 44,
     "metadata": {},
     "output_type": "execute_result"
    }
   ],
   "source": [
    "pattern = re.compile(\"hello\")\n",
    "match_iter = pattern.finditer(\"say hello hello\")\n",
    "type(match_iter)"
   ]
  },
  {
   "cell_type": "code",
   "execution_count": 45,
   "id": "25944152-3135-4833-8a52-bd08e547de07",
   "metadata": {},
   "outputs": [
    {
     "data": {
      "text/plain": [
       "<re.Match object; span=(4, 9), match='hello'>"
      ]
     },
     "execution_count": 45,
     "metadata": {},
     "output_type": "execute_result"
    }
   ],
   "source": [
    "next(match_iter)"
   ]
  },
  {
   "cell_type": "code",
   "execution_count": 50,
   "id": "8f20abf0-1b09-4791-bc5d-eb960bb2f745",
   "metadata": {},
   "outputs": [
    {
     "name": "stdout",
     "output_type": "stream",
     "text": [
      "<re.Match object; span=(4, 9), match='hello'>\n",
      "<re.Match object; span=(10, 15), match='hello'>\n"
     ]
    }
   ],
   "source": [
    "match_iter = pattern.finditer(\"say hello hello\")\n",
    "for match in match_iter:\n",
    "    print(match)"
   ]
  },
  {
   "cell_type": "code",
   "execution_count": 52,
   "id": "d86df8d5-92fc-4690-8439-5da3cbd4014a",
   "metadata": {},
   "outputs": [
    {
     "data": {
      "text/plain": [
       "<re.Match object; span=(15, 18), match='$15'>"
      ]
     },
     "execution_count": 52,
     "metadata": {},
     "output_type": "execute_result"
    }
   ],
   "source": [
    "#  search pattern $15\n",
    "text = \"this book cost $15\"\n",
    "pattern = re.compile(\"\\$15\") # here $ is a metacharacter using \\ it is coverted into a literal character/ordinary character\n",
    "pattern.search(text)"
   ]
  },
  {
   "cell_type": "code",
   "execution_count": null,
   "id": "3b9d28ca-e196-405f-80f5-eca99a1c666a",
   "metadata": {},
   "outputs": [],
   "source": []
  }
 ],
 "metadata": {
  "kernelspec": {
   "display_name": "Python 3 (ipykernel)",
   "language": "python",
   "name": "python3"
  },
  "language_info": {
   "codemirror_mode": {
    "name": "ipython",
    "version": 3
   },
   "file_extension": ".py",
   "mimetype": "text/x-python",
   "name": "python",
   "nbconvert_exporter": "python",
   "pygments_lexer": "ipython3",
   "version": "3.11.7"
  },
  "widgets": {
   "application/vnd.jupyter.widget-state+json": {
    "state": {},
    "version_major": 2,
    "version_minor": 0
   }
  }
 },
 "nbformat": 4,
 "nbformat_minor": 5
}
