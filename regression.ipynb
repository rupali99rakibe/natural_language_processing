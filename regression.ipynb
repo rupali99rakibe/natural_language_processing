{
 "cells": [
  {
   "cell_type": "code",
   "execution_count": 1,
   "id": "4103419d-04f6-4eec-8d8f-667b0d065478",
   "metadata": {},
   "outputs": [],
   "source": [
    "import re"
   ]
  },
  {
   "cell_type": "code",
   "execution_count": 2,
   "id": "ed783c91-d2f6-47cc-b941-905834020123",
   "metadata": {},
   "outputs": [],
   "source": [
    "a = \"Hello I am in 7 oct 1978 what about you \""
   ]
  },
  {
   "cell_type": "code",
   "execution_count": 3,
   "id": "46879688-4171-4917-9a96-e6b7d1f1ada3",
   "metadata": {},
   "outputs": [
    {
     "data": {
      "text/plain": [
       "14"
      ]
     },
     "execution_count": 3,
     "metadata": {},
     "output_type": "execute_result"
    }
   ],
   "source": [
    "a.find(\"7 oct 1978\")"
   ]
  },
  {
   "cell_type": "code",
   "execution_count": 4,
   "id": "a3424627-2e91-44a0-a4fc-f140e3a1eefd",
   "metadata": {},
   "outputs": [
    {
     "data": {
      "text/plain": [
       "0"
      ]
     },
     "execution_count": 4,
     "metadata": {},
     "output_type": "execute_result"
    }
   ],
   "source": [
    "a.find(\"Hello\")"
   ]
  },
  {
   "cell_type": "code",
   "execution_count": 5,
   "id": "a21cc1f3-7164-4031-8bea-1e5d796655a4",
   "metadata": {},
   "outputs": [],
   "source": [
    "txt = \"The rain in Spain\""
   ]
  },
  {
   "cell_type": "code",
   "execution_count": 6,
   "id": "df7c91c2-1563-4e2b-a748-54bb951c14fd",
   "metadata": {},
   "outputs": [
    {
     "data": {
      "text/plain": [
       "17"
      ]
     },
     "execution_count": 6,
     "metadata": {},
     "output_type": "execute_result"
    }
   ],
   "source": [
    "len(txt)"
   ]
  },
  {
   "cell_type": "code",
   "execution_count": 7,
   "id": "f1943d8f-2a92-44b3-b39b-6018b2e4217b",
   "metadata": {},
   "outputs": [],
   "source": [
    "x = re.search(\"^The.*Spain$\",txt)"
   ]
  },
  {
   "cell_type": "code",
   "execution_count": 8,
   "id": "de2bd547-fed7-4a66-9e4f-5a994bd65ae9",
   "metadata": {},
   "outputs": [
    {
     "data": {
      "text/plain": [
       "<re.Match object; span=(0, 17), match='The rain in Spain'>"
      ]
     },
     "execution_count": 8,
     "metadata": {},
     "output_type": "execute_result"
    }
   ],
   "source": [
    "x"
   ]
  },
  {
   "cell_type": "code",
   "execution_count": 9,
   "id": "f55051f1-9659-4db0-a554-5db58f8387a6",
   "metadata": {},
   "outputs": [],
   "source": [
    "r = \"\"\"I am a rupali my contact no 6573428901 you can contact me on this number\"\"\""
   ]
  },
  {
   "cell_type": "code",
   "execution_count": 10,
   "id": "47e6629a-5d97-4907-a089-8e8a4362e9f9",
   "metadata": {},
   "outputs": [],
   "source": [
    "pattern = \"\\d\\d\\d\\d\\d\\d\\d\\d\\d\\d\""
   ]
  },
  {
   "cell_type": "code",
   "execution_count": 11,
   "id": "bf38fbf5-d1aa-45e2-9065-a580429a35d6",
   "metadata": {},
   "outputs": [
    {
     "data": {
      "text/plain": [
       "<re.Match object; span=(28, 38), match='6573428901'>"
      ]
     },
     "execution_count": 11,
     "metadata": {},
     "output_type": "execute_result"
    }
   ],
   "source": [
    "re.search(pattern,r)"
   ]
  },
  {
   "cell_type": "code",
   "execution_count": 12,
   "id": "d328c30e-d776-4270-b782-19a20d9e029e",
   "metadata": {},
   "outputs": [
    {
     "data": {
      "text/plain": [
       "['6573428901']"
      ]
     },
     "execution_count": 12,
     "metadata": {},
     "output_type": "execute_result"
    }
   ],
   "source": [
    "re.findall(pattern,r)"
   ]
  },
  {
   "cell_type": "code",
   "execution_count": 13,
   "id": "2e81dab6-fd84-47bc-b9bf-44d1801000e2",
   "metadata": {},
   "outputs": [],
   "source": [
    "# re.findall(pattern,u)"
   ]
  },
  {
   "cell_type": "code",
   "execution_count": 14,
   "id": "0be299d2-a77b-4916-9856-6070bbf114ab",
   "metadata": {},
   "outputs": [],
   "source": [
    "r = \"\"\"I am a rupali my contact no 6573428901 you can contact me on this 6573428901 number\"\"\""
   ]
  },
  {
   "cell_type": "code",
   "execution_count": 15,
   "id": "851589b1-a0e4-4bce-8453-919431e43049",
   "metadata": {},
   "outputs": [
    {
     "data": {
      "text/plain": [
       "['6573428901', '6573428901']"
      ]
     },
     "execution_count": 15,
     "metadata": {},
     "output_type": "execute_result"
    }
   ],
   "source": [
    "re.findall(pattern,r)"
   ]
  },
  {
   "cell_type": "code",
   "execution_count": 16,
   "id": "d919b25d-23ae-4409-ad18-e3db64bb1ff5",
   "metadata": {},
   "outputs": [],
   "source": [
    "pattern1 = \"\\d+\""
   ]
  },
  {
   "cell_type": "code",
   "execution_count": 17,
   "id": "1f04b6bc-afcf-4b44-94fa-0e6bce1e9bfc",
   "metadata": {},
   "outputs": [
    {
     "data": {
      "text/plain": [
       "['6573428901', '6573428901']"
      ]
     },
     "execution_count": 17,
     "metadata": {},
     "output_type": "execute_result"
    }
   ],
   "source": [
    "re.findall(pattern1,r)"
   ]
  },
  {
   "cell_type": "code",
   "execution_count": 18,
   "id": "b45ffa06-2196-4c40-8b97-703ebc8770d7",
   "metadata": {},
   "outputs": [
    {
     "data": {
      "text/plain": [
       "['6573428901', '4356745737']"
      ]
     },
     "execution_count": 18,
     "metadata": {},
     "output_type": "execute_result"
    }
   ],
   "source": [
    "# access only 10 numbers in a string\n",
    "r1 = \"\"\"I am a rupali my contact no 657342890134 you can contact me on this 43567457373882 number\"\"\"\n",
    "pattern2 = \"\\d{10}\"\n",
    "re.findall(pattern2,r1)"
   ]
  },
  {
   "cell_type": "code",
   "execution_count": 19,
   "id": "068fa626-cfb5-463f-8457-f9e946b8a8eb",
   "metadata": {},
   "outputs": [
    {
     "data": {
      "text/plain": [
       "['(123)-456-7890']"
      ]
     },
     "execution_count": 19,
     "metadata": {},
     "output_type": "execute_result"
    }
   ],
   "source": [
    "r2 = \"\"\"I am a rupali my contact no 657342890134 you can contact me on this number is (123)-456-7890\"\"\"\n",
    "pattern3 = \"\\(\\d{3}\\)-\\d{3}-\\d{4}\"\n",
    "re.findall(pattern3,r2)"
   ]
  },
  {
   "cell_type": "code",
   "execution_count": 20,
   "id": "f061f88c-17a5-4775-b1ab-1f9b6ae07fbb",
   "metadata": {},
   "outputs": [],
   "source": [
    "r3 = \"\"\"Note 1 - Overview \n",
    "Tesla,Inc. (\"Tesla\",the \"Company\",\"we\",\"us\" or \"our\") was incorporate in the State of\n",
    "Delaware on\n",
    "Note 2 - Summary of significant Accounting Policies\n",
    "Unaaudited Interim Financial Statements\n",
    "The consolidateed balance sheet as of September 30,2021, the consolidated statement of\n",
    "operation, the comprehensive income, the consolidated statment of redeemable noncontroling\n",
    "interest and equility for the three and nine months ended September 30,2021 and 2020 \"\"\""
   ]
  },
  {
   "cell_type": "code",
   "execution_count": 21,
   "id": "a783a811-fd5e-421a-a3aa-9a258751f120",
   "metadata": {},
   "outputs": [],
   "source": [
    "pattern4 = \"Note \\d - ([^\\n]+)\""
   ]
  },
  {
   "cell_type": "code",
   "execution_count": 22,
   "id": "4bb8c4ff-a0cd-4eee-8cf7-cd32c41d08b0",
   "metadata": {},
   "outputs": [
    {
     "data": {
      "text/plain": [
       "['Overview ', 'Summary of significant Accounting Policies']"
      ]
     },
     "execution_count": 22,
     "metadata": {},
     "output_type": "execute_result"
    }
   ],
   "source": [
    "re.findall(pattern4,r3)"
   ]
  },
  {
   "cell_type": "code",
   "execution_count": 23,
   "id": "5c4840f1-b4ee-4fda-a156-336614b4bb15",
   "metadata": {},
   "outputs": [],
   "source": [
    "r4 = \"\"\"Abc's company has generated $50 million profit in FY2023 Q1 \n",
    "while lastyear it was $222 billion FY2022 Q3\"\"\""
   ]
  },
  {
   "cell_type": "code",
   "execution_count": 24,
   "id": "3599201e-ad27-4576-a67c-ddb02be960a6",
   "metadata": {},
   "outputs": [],
   "source": [
    "pattern5 = \"FY\\d{4} Q[1-4]\""
   ]
  },
  {
   "cell_type": "code",
   "execution_count": 25,
   "id": "93d3fb4e-b954-4d74-aed1-605d089e8826",
   "metadata": {},
   "outputs": [
    {
     "data": {
      "text/plain": [
       "['FY2023 Q1', 'FY2022 Q3']"
      ]
     },
     "execution_count": 25,
     "metadata": {},
     "output_type": "execute_result"
    }
   ],
   "source": [
    "re.findall(pattern5,r4)"
   ]
  },
  {
   "cell_type": "code",
   "execution_count": 26,
   "id": "9757531d-96ce-4711-a589-c412d6c8be3f",
   "metadata": {},
   "outputs": [],
   "source": [
    "pattern6 = \"\\$\\d+ \\w+\""
   ]
  },
  {
   "cell_type": "code",
   "execution_count": 27,
   "id": "39b3e01c-4ca1-4286-8d60-09f5ec3f6eef",
   "metadata": {},
   "outputs": [
    {
     "data": {
      "text/plain": [
       "['$50 million', '$222 billion']"
      ]
     },
     "execution_count": 27,
     "metadata": {},
     "output_type": "execute_result"
    }
   ],
   "source": [
    "re.findall(pattern6,r4)"
   ]
  },
  {
   "cell_type": "code",
   "execution_count": 28,
   "id": "8937b8da-a33d-4104-811a-d5256bc76d45",
   "metadata": {},
   "outputs": [],
   "source": [
    "r5 = \"\"\"Abc's company has generated $50 million profit in FY2023 Q1 \n",
    "while lastyear it was $222.548 billion FY2022 Q3 $50.77 million Q4\"\"\""
   ]
  },
  {
   "cell_type": "code",
   "execution_count": 29,
   "id": "0b8bcbf4-284f-480c-abc8-ac7f47ecf9bb",
   "metadata": {},
   "outputs": [],
   "source": [
    "# access decimal point values/numbers\n",
    "pattern7 = \"\\$[\\d\\.]+ \\w+\""
   ]
  },
  {
   "cell_type": "code",
   "execution_count": 30,
   "id": "0f01a355-9dfd-40b7-9977-41da8ca2bae7",
   "metadata": {},
   "outputs": [
    {
     "data": {
      "text/plain": [
       "['$50 million', '$222.548 billion', '$50.77 million']"
      ]
     },
     "execution_count": 30,
     "metadata": {},
     "output_type": "execute_result"
    }
   ],
   "source": [
    "re.findall(pattern7,r5)"
   ]
  },
  {
   "cell_type": "raw",
   "id": "0c05b1af-7991-4cd5-9a24-c669185ad2a5",
   "metadata": {},
   "source": [
    "my order number is 122345\n",
    "here is order number #122345\n",
    "order #122345"
   ]
  },
  {
   "cell_type": "code",
   "execution_count": 31,
   "id": "7227d3ed-fe17-4228-965d-6c213f376c68",
   "metadata": {},
   "outputs": [],
   "source": [
    "r = \"\"\"Hello i am having an issue with my order #4123452\"\"\""
   ]
  },
  {
   "cell_type": "code",
   "execution_count": 32,
   "id": "c00df720-ab1c-4459-9122-d76612b818b1",
   "metadata": {},
   "outputs": [],
   "source": [
    "r1 = \"\"\"Hello i am having an issue with my order 4123452\"\"\""
   ]
  },
  {
   "cell_type": "code",
   "execution_count": 33,
   "id": "b09ea89c-0bd5-4a33-a92a-69bfcaa0efba",
   "metadata": {},
   "outputs": [],
   "source": [
    "r2 = \"\"\"my order 4123452 is having an issue was charged 300$ when online it say 280$\"\"\""
   ]
  },
  {
   "cell_type": "code",
   "execution_count": 34,
   "id": "5a20f3af-1735-4b3b-95b0-469272b12776",
   "metadata": {},
   "outputs": [],
   "source": [
    "pattern_1 = \"my order \\d+\""
   ]
  },
  {
   "cell_type": "code",
   "execution_count": 35,
   "id": "9a7fab81-468e-4f44-b853-0a1f806cbcb5",
   "metadata": {},
   "outputs": [
    {
     "data": {
      "text/plain": [
       "[]"
      ]
     },
     "execution_count": 35,
     "metadata": {},
     "output_type": "execute_result"
    }
   ],
   "source": [
    "re.findall(pattern_1,r)"
   ]
  },
  {
   "cell_type": "code",
   "execution_count": 36,
   "id": "649d995f-1f58-47ac-8e05-b620d7cfd25f",
   "metadata": {},
   "outputs": [
    {
     "data": {
      "text/plain": [
       "[]"
      ]
     },
     "execution_count": 36,
     "metadata": {},
     "output_type": "execute_result"
    }
   ],
   "source": [
    "pattern_2 = \"my order\\D\\d+\"\n",
    "re.findall(pattern_2,r)"
   ]
  },
  {
   "cell_type": "code",
   "execution_count": 37,
   "id": "b2de8838-5e99-4791-a805-e13ca4fff76c",
   "metadata": {},
   "outputs": [
    {
     "data": {
      "text/plain": [
       "['my order 4123452']"
      ]
     },
     "execution_count": 37,
     "metadata": {},
     "output_type": "execute_result"
    }
   ],
   "source": [
    "re.findall(pattern_1,r2)"
   ]
  },
  {
   "cell_type": "code",
   "execution_count": 38,
   "id": "5dbc7810-6b71-4d28-ace9-fb32ac21cc4a",
   "metadata": {},
   "outputs": [
    {
     "data": {
      "text/plain": [
       "['my order id 4123452']"
      ]
     },
     "execution_count": 38,
     "metadata": {},
     "output_type": "execute_result"
    }
   ],
   "source": [
    "r3 = \"\"\"my order id 4123452 is having an issue was charged 300$ when online it say 280$\"\"\"\n",
    "pattern = \"my order [a-z]*\\D\\d+\"\n",
    "re.findall(pattern,r3)"
   ]
  },
  {
   "cell_type": "code",
   "execution_count": 39,
   "id": "4af2bac5-a0d0-4b52-89f7-b54d3a90687e",
   "metadata": {},
   "outputs": [
    {
     "data": {
      "text/plain": [
       "['my order number 4123452']"
      ]
     },
     "execution_count": 39,
     "metadata": {},
     "output_type": "execute_result"
    }
   ],
   "source": [
    "r4 = \"\"\"my order number 4123452 is having an issue was charged 300$ when online it say 280$\"\"\"\n",
    "pattern = \"my order [a-z]*\\D\\d+\"\n",
    "re.findall(pattern,r4)"
   ]
  },
  {
   "cell_type": "code",
   "execution_count": 40,
   "id": "1f23eb58-0f06-472e-bffd-2dc32639b917",
   "metadata": {},
   "outputs": [
    {
     "data": {
      "text/plain": [
       "['my order number 4123452']"
      ]
     },
     "execution_count": 40,
     "metadata": {},
     "output_type": "execute_result"
    }
   ],
   "source": [
    "# case sensitive\n",
    "r5 = \"\"\"Hello i am having an issue with my order number 4123452\"\"\"\n",
    "pattern = \"my order [a-z]\\w+ \\d+\"\n",
    "re.findall(pattern,r5)"
   ]
  },
  {
   "cell_type": "code",
   "execution_count": 41,
   "id": "53584684-be21-45d1-b86b-d11313a855d0",
   "metadata": {},
   "outputs": [
    {
     "data": {
      "text/plain": [
       "['my order number 4123452']"
      ]
     },
     "execution_count": 41,
     "metadata": {},
     "output_type": "execute_result"
    }
   ],
   "source": [
    "# case insensitive\n",
    "r6 = \"\"\"Hello i am having an issue with my order number 4123452\"\"\"\n",
    "pattern = \"my order [A-Z\\w]+ \\d+\"\n",
    "re.findall(pattern,r6)"
   ]
  },
  {
   "cell_type": "code",
   "execution_count": 42,
   "id": "25189454-de07-48cd-b3c4-1809ac443590",
   "metadata": {},
   "outputs": [
    {
     "data": {
      "text/plain": [
       "['order number 4123452']"
      ]
     },
     "execution_count": 42,
     "metadata": {},
     "output_type": "execute_result"
    }
   ],
   "source": [
    "r7 = \"\"\"Hello i am having an issue with my order number 4123452\"\"\"\n",
    "pattern = \"order [a-z]+ \\d+\"\n",
    "re.findall(pattern,r7)"
   ]
  },
  {
   "cell_type": "code",
   "execution_count": 43,
   "id": "2f9ceb6f-30fd-4373-942e-8d99daaa05b8",
   "metadata": {},
   "outputs": [],
   "source": [
    "info = \"\"\"you ask lot of questions\n",
    "1235678912 ab_sdc@x_z.com\n",
    "here is is:(123)-567-8912,ab48aac@1to10.com\n",
    "yes,phone: 1235678912 email: ab_sdc@x_z.com\"\"\""
   ]
  },
  {
   "cell_type": "code",
   "execution_count": 44,
   "id": "58e3749d-81cb-4c72-8072-11a33b715fe7",
   "metadata": {},
   "outputs": [
    {
     "data": {
      "text/plain": [
       "['ab_sdc@x_z.com', 'ab_sdc@x_z.com']"
      ]
     },
     "execution_count": 44,
     "metadata": {},
     "output_type": "execute_result"
    }
   ],
   "source": [
    "pattern = \".[a-z]_[\\Wa-z]+_[a-z].[a-z]{3}\"\n",
    "re.findall(pattern,info)"
   ]
  },
  {
   "cell_type": "code",
   "execution_count": null,
   "id": "178c72a5-eecd-4dea-a940-843da563d59e",
   "metadata": {},
   "outputs": [],
   "source": []
  }
 ],
 "metadata": {
  "kernelspec": {
   "display_name": "Python 3 (ipykernel)",
   "language": "python",
   "name": "python3"
  },
  "language_info": {
   "codemirror_mode": {
    "name": "ipython",
    "version": 3
   },
   "file_extension": ".py",
   "mimetype": "text/x-python",
   "name": "python",
   "nbconvert_exporter": "python",
   "pygments_lexer": "ipython3",
   "version": "3.11.7"
  },
  "widgets": {
   "application/vnd.jupyter.widget-state+json": {
    "state": {},
    "version_major": 2,
    "version_minor": 0
   }
  }
 },
 "nbformat": 4,
 "nbformat_minor": 5
}
