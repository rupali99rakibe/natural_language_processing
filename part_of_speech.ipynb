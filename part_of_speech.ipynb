{
 "cells": [
  {
   "cell_type": "raw",
   "id": "d36fc00b-a698-4b17-b35d-12a6a75334c4",
   "metadata": {},
   "source": [
    "noun - common noun(ball,car,stick) , propernoun(more specific)\n",
    "pronoun - reflexive pronoun,possesive pronoun,relative pronoun,identifite pronoun\n",
    "I, he, she, it, them, his, yours, anyone, nobody, who etc.\n",
    "verb - read, sit, run, pick, garnish, come, pitch, etc\n",
    "adverb - adverbs of manner, adverbs of degree, adverbs of frequency, adverbs of time and adverbs of place - today, quickly, randomly, early, 10 a.m. etc.\n",
    "adjective - good, ugly, quick, beautiful, late, etc.\n",
    "preposition - in, out, besides, in front of, below, opposite, etc.\n",
    "conjugation - and, or, for, yet, although, because, not only, etc.\n",
    "interjection - oh, wow, alas, yippee, etc."
   ]
  },
  {
   "cell_type": "code",
   "execution_count": 1,
   "id": "12a9fdab-a11e-40fe-a460-d7799da01a28",
   "metadata": {},
   "outputs": [],
   "source": [
    "r = \"\"\"Rupali flews mars yesterday. She carried burger with her.\"\"\""
   ]
  },
  {
   "cell_type": "code",
   "execution_count": 2,
   "id": "60c2d7f8-bb26-4282-8d51-5e9d03d3f0f6",
   "metadata": {},
   "outputs": [],
   "source": [
    "import nltk"
   ]
  },
  {
   "cell_type": "code",
   "execution_count": 3,
   "id": "70a068ce-5166-45d5-a5e7-ef4531d91755",
   "metadata": {},
   "outputs": [],
   "source": [
    "import spacy"
   ]
  },
  {
   "cell_type": "code",
   "execution_count": 4,
   "id": "8ec2361a-f40f-40bd-bd27-8421c7118cee",
   "metadata": {},
   "outputs": [],
   "source": [
    "nlp = spacy.load(\"en_core_web_sm\")"
   ]
  },
  {
   "cell_type": "code",
   "execution_count": 5,
   "id": "441f14b2-31da-4311-bb8e-47624e3b097e",
   "metadata": {},
   "outputs": [],
   "source": [
    "doc = nlp(r)"
   ]
  },
  {
   "cell_type": "code",
   "execution_count": 6,
   "id": "36126598-771c-43da-b12d-2b4a3e216af1",
   "metadata": {},
   "outputs": [
    {
     "name": "stdout",
     "output_type": "stream",
     "text": [
      "Rupali\n",
      "flews\n",
      "mars\n",
      "yesterday\n",
      ".\n",
      "She\n",
      "carried\n",
      "burger\n",
      "with\n",
      "her\n",
      ".\n"
     ]
    }
   ],
   "source": [
    "for i in doc:\n",
    "    print(i)"
   ]
  },
  {
   "cell_type": "code",
   "execution_count": 8,
   "id": "7ee6562a-83c6-48c5-869c-e3e9794c904b",
   "metadata": {},
   "outputs": [
    {
     "name": "stdout",
     "output_type": "stream",
     "text": [
      "Rupali : ADJ\n",
      "flews : NOUN\n",
      "mars : NOUN\n",
      "yesterday : NOUN\n",
      ". : PUNCT\n",
      "She : PRON\n",
      "carried : VERB\n",
      "burger : NOUN\n",
      "with : ADP\n",
      "her : PRON\n",
      ". : PUNCT\n"
     ]
    }
   ],
   "source": [
    "for i in doc:\n",
    "    print(i,\":\",i.pos_)"
   ]
  },
  {
   "cell_type": "code",
   "execution_count": 9,
   "id": "09da5b42-546b-4bb1-8d35-a6fbdc9a92a9",
   "metadata": {},
   "outputs": [
    {
     "name": "stdout",
     "output_type": "stream",
     "text": [
      "Rupali : 84\n",
      "flews : 92\n",
      "mars : 92\n",
      "yesterday : 92\n",
      ". : 97\n",
      "She : 95\n",
      "carried : 100\n",
      "burger : 92\n",
      "with : 85\n",
      "her : 95\n",
      ". : 97\n"
     ]
    }
   ],
   "source": [
    "for i in doc:\n",
    "    print(i,\":\",i.pos)"
   ]
  },
  {
   "cell_type": "code",
   "execution_count": 11,
   "id": "8eaee004-e6df-46ec-9f9b-acd9b66a0896",
   "metadata": {},
   "outputs": [
    {
     "name": "stdout",
     "output_type": "stream",
     "text": [
      "Rupali : ADJ : 84\n",
      "flews : NOUN : 92\n",
      "mars : NOUN : 92\n",
      "yesterday : NOUN : 92\n",
      ". : PUNCT : 97\n",
      "She : PRON : 95\n",
      "carried : VERB : 100\n",
      "burger : NOUN : 92\n",
      "with : ADP : 85\n",
      "her : PRON : 95\n",
      ". : PUNCT : 97\n"
     ]
    }
   ],
   "source": [
    "for i in doc:\n",
    "    print(i,\":\",i.pos_,\":\",i.pos)"
   ]
  },
  {
   "cell_type": "code",
   "execution_count": null,
   "id": "ca216630-18e0-4e52-97c1-6e90a27f7bf9",
   "metadata": {},
   "outputs": [],
   "source": []
  }
 ],
 "metadata": {
  "kernelspec": {
   "display_name": "Python 3 (ipykernel)",
   "language": "python",
   "name": "python3"
  },
  "language_info": {
   "codemirror_mode": {
    "name": "ipython",
    "version": 3
   },
   "file_extension": ".py",
   "mimetype": "text/x-python",
   "name": "python",
   "nbconvert_exporter": "python",
   "pygments_lexer": "ipython3",
   "version": "3.11.7"
  },
  "widgets": {
   "application/vnd.jupyter.widget-state+json": {
    "state": {},
    "version_major": 2,
    "version_minor": 0
   }
  }
 },
 "nbformat": 4,
 "nbformat_minor": 5
}
