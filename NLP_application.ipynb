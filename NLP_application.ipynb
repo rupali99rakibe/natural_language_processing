{
 "cells": [
  {
   "cell_type": "markdown",
   "id": "75b2e3fc-f937-44a3-a9bd-a7cf89ef9a95",
   "metadata": {},
   "source": [
    "# Information Extraction"
   ]
  },
  {
   "cell_type": "code",
   "execution_count": 1,
   "id": "4816eb74-d17f-4777-bb34-ff4b7f2a594c",
   "metadata": {},
   "outputs": [],
   "source": [
    "a =\"\"\"\tThe Grands Boulevards is an oil on canvas painting by Pierre-Auguste Renoir, painted in 1875. \n",
    "The painting illustrates a busy Paris boulevard, showing the effects of the recent renovation of the city by Georges-Eugène Haussmann.\n",
    "It depicts a wide, paved street with a large concrete building to the right of the painting.\"\"\""
   ]
  },
  {
   "cell_type": "code",
   "execution_count": 2,
   "id": "3dbb9c29-690d-49fa-bc38-afa5a2916463",
   "metadata": {},
   "outputs": [
    {
     "data": {
      "text/plain": [
       "['\\tThe Grands Boulevards is an oil on canvas painting by Pierre-Auguste Renoir, painted in 1875',\n",
       " ' \\nThe painting illustrates a busy Paris boulevard, showing the effects of the recent renovation of the city by Georges-Eugène Haussmann',\n",
       " '\\nIt depicts a wide, paved street with a large concrete building to the right of the painting',\n",
       " '']"
      ]
     },
     "execution_count": 2,
     "metadata": {},
     "output_type": "execute_result"
    }
   ],
   "source": [
    "a.split(\".\")"
   ]
  },
  {
   "cell_type": "code",
   "execution_count": 3,
   "id": "6e960669-10f1-4d34-9cc8-e1e24bceb879",
   "metadata": {},
   "outputs": [],
   "source": [
    "r = \"\"\"Dr. john have a degree of Phd. he also work as a data scientist.\"\"\""
   ]
  },
  {
   "cell_type": "code",
   "execution_count": 4,
   "id": "2b4b0d90-d13a-4f13-a825-4bded768af14",
   "metadata": {},
   "outputs": [],
   "source": [
    "# !python -m spacy download en_core_web_sm"
   ]
  },
  {
   "cell_type": "code",
   "execution_count": 5,
   "id": "3443c7f8-cde6-4322-80fa-db9769b0bbb5",
   "metadata": {},
   "outputs": [],
   "source": [
    "import spacy"
   ]
  },
  {
   "cell_type": "code",
   "execution_count": 6,
   "id": "97ac323b-58cb-492a-9055-f14f56324ccf",
   "metadata": {},
   "outputs": [],
   "source": [
    "# nlp = spacy.load(\"en_core_web_sm\")"
   ]
  },
  {
   "cell_type": "code",
   "execution_count": 7,
   "id": "9aaa3980-2d7c-4560-953e-21cec534f784",
   "metadata": {},
   "outputs": [],
   "source": [
    "# doc = nlp(r)"
   ]
  },
  {
   "cell_type": "code",
   "execution_count": 8,
   "id": "d6ab0176-1ba8-45e2-834f-27938c408db8",
   "metadata": {},
   "outputs": [],
   "source": [
    "# doc.sents"
   ]
  },
  {
   "cell_type": "code",
   "execution_count": 9,
   "id": "be52356d-1a3d-4a36-8282-dbe0b8ce86a7",
   "metadata": {},
   "outputs": [],
   "source": [
    "# for i in doc.sents:\n",
    "    # print(i)"
   ]
  },
  {
   "cell_type": "code",
   "execution_count": 10,
   "id": "22426b33-3110-453f-8246-b2e72be18b7b",
   "metadata": {},
   "outputs": [
    {
     "name": "stdout",
     "output_type": "stream",
     "text": [
      "Dr. john have a degree of Phd.\n",
      "he also work as a data scientist.\n"
     ]
    }
   ],
   "source": [
    "nlp = spacy.load(\"en_core_web_sm\")\n",
    "doc = nlp(r)\n",
    "doc.sents\n",
    "for i in doc.sents:\n",
    "    print(i)"
   ]
  },
  {
   "cell_type": "code",
   "execution_count": 11,
   "id": "8dd0ab87-5a9d-4854-8d03-2dd52c65ead8",
   "metadata": {},
   "outputs": [
    {
     "name": "stdout",
     "output_type": "stream",
     "text": [
      "Dr.\n",
      "john\n",
      "have\n",
      "a\n",
      "degree\n",
      "of\n",
      "Phd\n",
      ".\n",
      "he\n",
      "also\n",
      "work\n",
      "as\n",
      "a\n",
      "data\n",
      "scientist\n",
      ".\n",
      "building\n",
      "model\n",
      "of\n",
      "nlp\n",
      ".\n"
     ]
    }
   ],
   "source": [
    "r = \"\"\"Dr. john have a degree of Phd. he also work as a data scientist. building model of nlp.\"\"\"\n",
    "nlp = spacy.load(\"en_core_web_sm\")\n",
    "doc = nlp(r)\n",
    "doc.sents\n",
    "for i in doc.sents:\n",
    "    for j in i:\n",
    "        print(j)"
   ]
  },
  {
   "cell_type": "code",
   "execution_count": 12,
   "id": "33def114-ee4c-43ce-962f-bb374008e72d",
   "metadata": {},
   "outputs": [
    {
     "data": {
      "text/plain": [
       "spacy.tokens.doc.Doc"
      ]
     },
     "execution_count": 12,
     "metadata": {},
     "output_type": "execute_result"
    }
   ],
   "source": [
    "type(doc)"
   ]
  },
  {
   "cell_type": "code",
   "execution_count": 13,
   "id": "2e746a5f-fa84-4059-b304-cb5d1fe1c39b",
   "metadata": {},
   "outputs": [],
   "source": [
    "\n",
    "import nltk"
   ]
  },
  {
   "cell_type": "code",
   "execution_count": 14,
   "id": "a96b47bf-5b0e-4e2e-a599-e134abf82394",
   "metadata": {},
   "outputs": [
    {
     "name": "stderr",
     "output_type": "stream",
     "text": [
      "[nltk_data] Downloading package punkt to C:\\Users\\rupali\n",
      "[nltk_data]     rakibe\\AppData\\Roaming\\nltk_data...\n",
      "[nltk_data]   Package punkt is already up-to-date!\n"
     ]
    },
    {
     "data": {
      "text/plain": [
       "True"
      ]
     },
     "execution_count": 14,
     "metadata": {},
     "output_type": "execute_result"
    }
   ],
   "source": [
    "nltk.download(\"punkt\")"
   ]
  },
  {
   "cell_type": "code",
   "execution_count": 15,
   "id": "5b6ccd26-e1d7-41a8-8ef7-bc98cb2a7a4b",
   "metadata": {},
   "outputs": [],
   "source": [
    "from nltk.tokenize import sent_tokenize"
   ]
  },
  {
   "cell_type": "code",
   "execution_count": 16,
   "id": "df3ea2ff-e2bb-4128-bc0d-f8a8c4dcf285",
   "metadata": {},
   "outputs": [
    {
     "data": {
      "text/plain": [
       "['Dr. john have a degree of Phd.',\n",
       " 'he also work as a data scientist.',\n",
       " 'building model of nlp.']"
      ]
     },
     "execution_count": 16,
     "metadata": {},
     "output_type": "execute_result"
    }
   ],
   "source": [
    "result = sent_tokenize(r)\n",
    "result"
   ]
  },
  {
   "cell_type": "code",
   "execution_count": 17,
   "id": "ee62fe93-10e1-4fe9-91ba-e29d75758881",
   "metadata": {},
   "outputs": [
    {
     "data": {
      "text/plain": [
       "list"
      ]
     },
     "execution_count": 17,
     "metadata": {},
     "output_type": "execute_result"
    }
   ],
   "source": [
    "type(result)"
   ]
  },
  {
   "cell_type": "code",
   "execution_count": 18,
   "id": "024f9538-6a24-4ebe-95fb-98d41581f958",
   "metadata": {},
   "outputs": [
    {
     "data": {
      "text/plain": [
       "'Dr. john have a degree of Phd.'"
      ]
     },
     "execution_count": 18,
     "metadata": {},
     "output_type": "execute_result"
    }
   ],
   "source": [
    "result[0]"
   ]
  },
  {
   "cell_type": "code",
   "execution_count": 19,
   "id": "9e48491d-54da-4d87-a878-9098c5adf54e",
   "metadata": {},
   "outputs": [],
   "source": [
    "from nltk.tokenize import word_tokenize"
   ]
  },
  {
   "cell_type": "code",
   "execution_count": 20,
   "id": "43a9e574-1647-4e38-9293-6e2f6b9b3125",
   "metadata": {},
   "outputs": [
    {
     "data": {
      "text/plain": [
       "['Dr.',\n",
       " 'john',\n",
       " 'have',\n",
       " 'a',\n",
       " 'degree',\n",
       " 'of',\n",
       " 'Phd',\n",
       " '.',\n",
       " 'he',\n",
       " 'also',\n",
       " 'work',\n",
       " 'as',\n",
       " 'a',\n",
       " 'data',\n",
       " 'scientist',\n",
       " '.',\n",
       " 'building',\n",
       " 'model',\n",
       " 'of',\n",
       " 'nlp',\n",
       " '.']"
      ]
     },
     "execution_count": 20,
     "metadata": {},
     "output_type": "execute_result"
    }
   ],
   "source": [
    "word_tokenize(r)"
   ]
  },
  {
   "cell_type": "code",
   "execution_count": 21,
   "id": "67b3ba7f-4d36-4fcd-8073-5cb72b5f8ab3",
   "metadata": {},
   "outputs": [],
   "source": [
    "r = \"\"\"Ms. pooja lover of pizza and it's cost $2 per slice.\"\"\""
   ]
  },
  {
   "cell_type": "code",
   "execution_count": 22,
   "id": "edd1367a-eb9b-4d27-93e3-1e63aba296af",
   "metadata": {},
   "outputs": [],
   "source": [
    "doc = nlp(r)"
   ]
  },
  {
   "cell_type": "code",
   "execution_count": 23,
   "id": "a78d089f-9fc5-4e6d-8e55-008e1977ba71",
   "metadata": {},
   "outputs": [
    {
     "name": "stdout",
     "output_type": "stream",
     "text": [
      "Ms.\n",
      "pooja\n",
      "lover\n",
      "of\n",
      "pizza\n",
      "and\n",
      "it\n",
      "'s\n",
      "cost\n",
      "$\n",
      "2\n",
      "per\n",
      "slice\n",
      ".\n"
     ]
    }
   ],
   "source": [
    "for i in doc:\n",
    "    print(i)"
   ]
  },
  {
   "cell_type": "code",
   "execution_count": 24,
   "id": "c6b0a280-1195-47ba-a48e-6d4bd9c160dd",
   "metadata": {},
   "outputs": [
    {
     "data": {
      "text/plain": [
       "spacy.tokens.doc.Doc"
      ]
     },
     "execution_count": 24,
     "metadata": {},
     "output_type": "execute_result"
    }
   ],
   "source": [
    "type(doc)"
   ]
  },
  {
   "cell_type": "code",
   "execution_count": 25,
   "id": "5505bddd-6978-4708-bf89-d7667ce5944c",
   "metadata": {},
   "outputs": [
    {
     "data": {
      "text/plain": [
       "False"
      ]
     },
     "execution_count": 25,
     "metadata": {},
     "output_type": "execute_result"
    }
   ],
   "source": [
    "token1 = doc[0]\n",
    "token1.is_alpha"
   ]
  },
  {
   "cell_type": "code",
   "execution_count": 26,
   "id": "0c6438fc-0f00-45fc-a070-430a2658ed56",
   "metadata": {},
   "outputs": [
    {
     "data": {
      "text/plain": [
       "$"
      ]
     },
     "execution_count": 26,
     "metadata": {},
     "output_type": "execute_result"
    }
   ],
   "source": [
    "token2 = doc[9]\n",
    "token2"
   ]
  },
  {
   "cell_type": "code",
   "execution_count": 27,
   "id": "64edc8a6-0377-4ef8-ab79-da0c2f6289ae",
   "metadata": {},
   "outputs": [
    {
     "data": {
      "text/plain": [
       "True"
      ]
     },
     "execution_count": 27,
     "metadata": {},
     "output_type": "execute_result"
    }
   ],
   "source": [
    "token2.is_currency"
   ]
  },
  {
   "cell_type": "code",
   "execution_count": 28,
   "id": "fc254706-6af7-434a-9481-7d47d7da2f93",
   "metadata": {},
   "outputs": [],
   "source": [
    "# for i in doc:\n",
    "#     if doc(i).is_currency == True:\n",
    "#         print(i)"
   ]
  },
  {
   "cell_type": "code",
   "execution_count": 29,
   "id": "8e82ce2f-9052-4476-9a8e-721bf4cce326",
   "metadata": {},
   "outputs": [
    {
     "data": {
      "text/plain": [
       "2"
      ]
     },
     "execution_count": 29,
     "metadata": {},
     "output_type": "execute_result"
    }
   ],
   "source": [
    "token3 = doc[10]\n",
    "token3"
   ]
  },
  {
   "cell_type": "code",
   "execution_count": 30,
   "id": "36ccab36-8a5a-44bd-85de-04d4cc74461b",
   "metadata": {},
   "outputs": [
    {
     "data": {
      "text/plain": [
       "True"
      ]
     },
     "execution_count": 30,
     "metadata": {},
     "output_type": "execute_result"
    }
   ],
   "source": [
    "token3.is_digit"
   ]
  },
  {
   "cell_type": "code",
   "execution_count": 31,
   "id": "01dbcd7a-8c00-4f5a-a8d2-4b8d8546ed5c",
   "metadata": {},
   "outputs": [
    {
     "name": "stdout",
     "output_type": "stream",
     "text": [
      "Ms. pooja lover of pizza and it's cost $2 per slice.\n"
     ]
    }
   ],
   "source": [
    "for i in doc.sents:\n",
    "    print(i)"
   ]
  },
  {
   "cell_type": "code",
   "execution_count": 32,
   "id": "f9a8b1cb-a953-479f-8bf5-ad8b32899478",
   "metadata": {},
   "outputs": [
    {
     "name": "stdout",
     "output_type": "stream",
     "text": [
      "Ms.\n",
      "pooja\n",
      "lover\n",
      "of\n",
      "pizza\n",
      "and\n",
      "it\n",
      "'s\n",
      "cost\n",
      "$\n",
      "2\n",
      "per\n",
      "slice\n",
      ".\n"
     ]
    }
   ],
   "source": [
    "for i in doc.sents:\n",
    "    for j in i:\n",
    "        print(j)"
   ]
  },
  {
   "cell_type": "code",
   "execution_count": 33,
   "id": "c718c20a-a55e-4006-9e97-f923834d9db2",
   "metadata": {},
   "outputs": [],
   "source": [
    "r = \"\"\"Ms. pooja lover of pizza. and it's cost $2 per slice. and it's profit is 24$ million\"\"\"\n",
    "doc = nlp(r)"
   ]
  },
  {
   "cell_type": "code",
   "execution_count": 34,
   "id": "205f0acb-e53f-4801-9d25-636508ccc428",
   "metadata": {},
   "outputs": [
    {
     "name": "stdout",
     "output_type": "stream",
     "text": [
      "Ms. pooja lover of pizza.\n",
      "and it's cost $2 per slice.\n",
      "and it's profit is 24$ million\n"
     ]
    }
   ],
   "source": [
    "for i in doc.sents:\n",
    "    print(i)"
   ]
  },
  {
   "cell_type": "code",
   "execution_count": 35,
   "id": "17375e6a-74ec-4c8e-86de-148f197987d7",
   "metadata": {},
   "outputs": [
    {
     "name": "stdout",
     "output_type": "stream",
     "text": [
      "Ms.\n",
      "pooja\n",
      "lover\n",
      "of\n",
      "pizza\n",
      "and\n",
      "it\n",
      "'s\n",
      "cost\n",
      "$\n",
      "2\n",
      "per\n",
      "slice\n",
      "and\n",
      "it\n",
      "'s\n",
      "profit\n",
      "is\n",
      "24\n",
      "$\n"
     ]
    }
   ],
   "source": [
    "for i in doc.sents:\n",
    "    for word in i:\n",
    "        if word.is_sent_end == False:\n",
    "            print(word)"
   ]
  },
  {
   "cell_type": "code",
   "execution_count": 36,
   "id": "23a955c8-7c23-44ba-a8da-d6a44a7c79ce",
   "metadata": {},
   "outputs": [
    {
     "name": "stdout",
     "output_type": "stream",
     "text": [
      ".\n",
      ".\n",
      "million\n"
     ]
    }
   ],
   "source": [
    "for i in doc.sents:\n",
    "    for word in i:\n",
    "        if word.is_sent_end == True:\n",
    "            print(word)"
   ]
  },
  {
   "cell_type": "code",
   "execution_count": 37,
   "id": "d5b90921-61e0-4a85-91ca-9a1aeabae740",
   "metadata": {},
   "outputs": [],
   "source": [
    "s = \"\"\"Modern High School, 8th Grade student information\n",
    "\n",
    "===============================================\n",
    "\n",
    "Name    Birthday email\n",
    "\n",
    "------ ------ --------\n",
    "Virat 5th June, 1882 virat@kohli.com\n",
    "Maria 12 April, 2011 maria@sharapova.com\n",
    "Serena 24 June, 1998 serena@williams.com\n",
    "Joe 1 May, 1997 joe@root.com\"\"\""
   ]
  },
  {
   "cell_type": "code",
   "execution_count": 38,
   "id": "7dda1bd3-345f-4899-8dc8-16477c16951f",
   "metadata": {},
   "outputs": [],
   "source": [
    "doc = nlp(s)"
   ]
  },
  {
   "cell_type": "code",
   "execution_count": 39,
   "id": "3484b702-80e6-440f-9d30-27774bbbac87",
   "metadata": {},
   "outputs": [
    {
     "data": {
      "text/plain": [
       "<generator at 0x29a2f83e200>"
      ]
     },
     "execution_count": 39,
     "metadata": {},
     "output_type": "execute_result"
    }
   ],
   "source": [
    "doc.sents"
   ]
  },
  {
   "cell_type": "code",
   "execution_count": 40,
   "id": "4bdcc8be-ade8-4951-a64d-3c1510132d9f",
   "metadata": {},
   "outputs": [
    {
     "name": "stdout",
     "output_type": "stream",
     "text": [
      "Modern High School, 8th Grade student information\n",
      "\n",
      "===============================================\n",
      "\n",
      "Name    Birthday email\n",
      "\n",
      "------ ------ --------\n",
      "Virat 5th June, 1882 virat@kohli.com\n",
      "\n",
      "Maria 12 April, 2011 maria@sharapova.com\n",
      "Serena 24 June, 1998 serena@williams.com\n",
      "\n",
      "Joe 1 May, 1997 joe@root.com\n"
     ]
    }
   ],
   "source": [
    "for i in doc.sents:\n",
    "    print(i)"
   ]
  },
  {
   "cell_type": "code",
   "execution_count": 41,
   "id": "3a785201-c6f5-4a00-8c89-847d9e460293",
   "metadata": {},
   "outputs": [],
   "source": [
    "email = []\n",
    "for i in doc.sents:\n",
    "    for word in i:\n",
    "        if word.like_email == True:\n",
    "            email.append(word)"
   ]
  },
  {
   "cell_type": "code",
   "execution_count": 42,
   "id": "835c9983-8cf1-469f-beeb-7d71edf14ec3",
   "metadata": {},
   "outputs": [
    {
     "data": {
      "text/plain": [
       "[virat@kohli.com, maria@sharapova.com, serena@williams.com, joe@root.com]"
      ]
     },
     "execution_count": 42,
     "metadata": {},
     "output_type": "execute_result"
    }
   ],
   "source": [
    "email"
   ]
  },
  {
   "cell_type": "code",
   "execution_count": 43,
   "id": "b65810e2-4a05-4ea2-b445-3a942dce474f",
   "metadata": {},
   "outputs": [],
   "source": [
    "import pandas as pd"
   ]
  },
  {
   "cell_type": "code",
   "execution_count": 44,
   "id": "cf67d734-aff4-41bf-a593-1c3a67a7fba4",
   "metadata": {},
   "outputs": [
    {
     "data": {
      "text/plain": [
       "0        virat@kohli.com\n",
       "1    maria@sharapova.com\n",
       "2    serena@williams.com\n",
       "3           joe@root.com\n",
       "dtype: object"
      ]
     },
     "execution_count": 44,
     "metadata": {},
     "output_type": "execute_result"
    }
   ],
   "source": [
    "email_df = pd.Series(email)\n",
    "email_df"
   ]
  },
  {
   "cell_type": "markdown",
   "id": "bea3082a-c806-410e-b471-122ba6aeb34b",
   "metadata": {},
   "source": [
    "# lemmetization and stemming"
   ]
  },
  {
   "cell_type": "code",
   "execution_count": 45,
   "id": "70de0607-2fd9-478b-89d4-5ddc8ebedeb1",
   "metadata": {},
   "outputs": [],
   "source": [
    "a = \"I am eating pizza now and yesterday I ate Kulcha and tommorow I will eat burger.\""
   ]
  },
  {
   "cell_type": "code",
   "execution_count": 50,
   "id": "1b0f8f54-04c8-4231-b336-e9cae2889185",
   "metadata": {},
   "outputs": [],
   "source": [
    "r = ['Eating','eats',\"ate\",'eat','adjustable','rafting','ability','meeting']"
   ]
  },
  {
   "cell_type": "code",
   "execution_count": 46,
   "id": "5e885e52-1baa-4ce7-a216-a11f9f1db16e",
   "metadata": {},
   "outputs": [],
   "source": [
    "import nltk"
   ]
  },
  {
   "cell_type": "code",
   "execution_count": 47,
   "id": "78b1fbf9-9cf4-456b-9d98-9e922c9e37fb",
   "metadata": {},
   "outputs": [],
   "source": [
    "from nltk.stem import PorterStemmer"
   ]
  },
  {
   "cell_type": "code",
   "execution_count": 48,
   "id": "1f2ebc9a-c74a-477d-928e-45632387e1f9",
   "metadata": {},
   "outputs": [],
   "source": [
    "stemmer = PorterStemmer()"
   ]
  },
  {
   "cell_type": "code",
   "execution_count": 49,
   "id": "7186c908-5162-4038-9ff7-3ed74be8d1d8",
   "metadata": {},
   "outputs": [
    {
     "data": {
      "text/plain": [
       "'eat'"
      ]
     },
     "execution_count": 49,
     "metadata": {},
     "output_type": "execute_result"
    }
   ],
   "source": [
    "stemmer.stem(\"Eating\")"
   ]
  },
  {
   "cell_type": "code",
   "execution_count": 51,
   "id": "098249f8-ac68-4679-902f-295a1334746c",
   "metadata": {},
   "outputs": [
    {
     "data": {
      "text/plain": [
       "'adjust'"
      ]
     },
     "execution_count": 51,
     "metadata": {},
     "output_type": "execute_result"
    }
   ],
   "source": [
    "stemmer.stem('adjustable')"
   ]
  },
  {
   "cell_type": "code",
   "execution_count": 55,
   "id": "477c9de6-9155-4b46-8bad-d18845e144c8",
   "metadata": {},
   "outputs": [
    {
     "name": "stdout",
     "output_type": "stream",
     "text": [
      "Eating : eat\n",
      "eats : eat\n",
      "ate : ate\n",
      "eat : eat\n",
      "adjustable : adjust\n",
      "rafting : raft\n",
      "ability : abil\n",
      "meeting : meet\n"
     ]
    }
   ],
   "source": [
    "for i in r:\n",
    "    print(i, \":\", stemmer.stem(i))"
   ]
  },
  {
   "cell_type": "code",
   "execution_count": 56,
   "id": "8ed3d3d6-51ef-405c-a27d-97babfb8c192",
   "metadata": {},
   "outputs": [
    {
     "data": {
      "text/plain": [
       "'Eating eats ate eat adjustable rafting ability meeting'"
      ]
     },
     "execution_count": 56,
     "metadata": {},
     "output_type": "execute_result"
    }
   ],
   "source": [
    "a = \" \".join(r)\n",
    "a"
   ]
  },
  {
   "cell_type": "code",
   "execution_count": 57,
   "id": "027bb039-99e8-48a5-b644-c67234714645",
   "metadata": {},
   "outputs": [],
   "source": [
    "doc = nlp(a)"
   ]
  },
  {
   "cell_type": "code",
   "execution_count": 58,
   "id": "2748b7a0-37df-4ce1-9d70-bfc0d89a22ad",
   "metadata": {},
   "outputs": [
    {
     "name": "stdout",
     "output_type": "stream",
     "text": [
      "Eating\n",
      "eats\n",
      "ate\n",
      "eat\n",
      "adjustable\n",
      "rafting\n",
      "ability\n",
      "meeting\n"
     ]
    }
   ],
   "source": [
    "for i in doc:\n",
    "    print(i)"
   ]
  },
  {
   "cell_type": "code",
   "execution_count": 59,
   "id": "7a028e34-e408-4e09-86af-7433ce106170",
   "metadata": {},
   "outputs": [
    {
     "name": "stdout",
     "output_type": "stream",
     "text": [
      "Eating : 9837207709914848172\n",
      "eats : 9837207709914848172\n",
      "ate : 9837207709914848172\n",
      "eat : 9837207709914848172\n",
      "adjustable : 6033511944150694480\n",
      "rafting : 7154368781129989833\n",
      "ability : 11565809527369121409\n",
      "meeting : 14798207169164081740\n"
     ]
    }
   ],
   "source": [
    "for i in doc:\n",
    "    print(i,\":\",i.lemma)"
   ]
  },
  {
   "cell_type": "code",
   "execution_count": 60,
   "id": "1489e631-5701-4f9a-a75f-799ce597181b",
   "metadata": {},
   "outputs": [
    {
     "name": "stdout",
     "output_type": "stream",
     "text": [
      "Eating : eat\n",
      "eats : eat\n",
      "ate : eat\n",
      "eat : eat\n",
      "adjustable : adjustable\n",
      "rafting : raft\n",
      "ability : ability\n",
      "meeting : meeting\n"
     ]
    }
   ],
   "source": [
    "for i in doc:\n",
    "    print(i,\":\",i.lemma_)"
   ]
  }
 ],
 "metadata": {
  "kernelspec": {
   "display_name": "Python 3 (ipykernel)",
   "language": "python",
   "name": "python3"
  },
  "language_info": {
   "codemirror_mode": {
    "name": "ipython",
    "version": 3
   },
   "file_extension": ".py",
   "mimetype": "text/x-python",
   "name": "python",
   "nbconvert_exporter": "python",
   "pygments_lexer": "ipython3",
   "version": "3.11.7"
  },
  "widgets": {
   "application/vnd.jupyter.widget-state+json": {
    "state": {},
    "version_major": 2,
    "version_minor": 0
   }
  }
 },
 "nbformat": 4,
 "nbformat_minor": 5
}
