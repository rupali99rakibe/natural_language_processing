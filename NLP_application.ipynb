{
 "cells": [
  {
   "cell_type": "markdown",
   "id": "75b2e3fc-f937-44a3-a9bd-a7cf89ef9a95",
   "metadata": {},
   "source": [
    "# Information Extraction"
   ]
  },
  {
   "cell_type": "code",
   "execution_count": 1,
   "id": "4816eb74-d17f-4777-bb34-ff4b7f2a594c",
   "metadata": {},
   "outputs": [],
   "source": [
    "a =\"\"\"\tThe Grands Boulevards is an oil on canvas painting by Pierre-Auguste Renoir, painted in 1875. \n",
    "The painting illustrates a busy Paris boulevard, showing the effects of the recent renovation of the city by Georges-Eugène Haussmann.\n",
    "It depicts a wide, paved street with a large concrete building to the right of the painting.\"\"\""
   ]
  },
  {
   "cell_type": "code",
   "execution_count": 2,
   "id": "3dbb9c29-690d-49fa-bc38-afa5a2916463",
   "metadata": {},
   "outputs": [
    {
     "data": {
      "text/plain": [
       "['\\tThe Grands Boulevards is an oil on canvas painting by Pierre-Auguste Renoir, painted in 1875',\n",
       " ' \\nThe painting illustrates a busy Paris boulevard, showing the effects of the recent renovation of the city by Georges-Eugène Haussmann',\n",
       " '\\nIt depicts a wide, paved street with a large concrete building to the right of the painting',\n",
       " '']"
      ]
     },
     "execution_count": 2,
     "metadata": {},
     "output_type": "execute_result"
    }
   ],
   "source": [
    "a.split(\".\")"
   ]
  },
  {
   "cell_type": "code",
   "execution_count": 3,
   "id": "6e960669-10f1-4d34-9cc8-e1e24bceb879",
   "metadata": {},
   "outputs": [],
   "source": [
    "r = \"\"\"Dr. john have a degree of Phd. he also work as a data scientist.\"\"\""
   ]
  },
  {
   "cell_type": "code",
   "execution_count": 4,
   "id": "2b4b0d90-d13a-4f13-a825-4bded768af14",
   "metadata": {},
   "outputs": [],
   "source": [
    "# !python -m spacy download en_core_web_sm"
   ]
  },
  {
   "cell_type": "code",
   "execution_count": 5,
   "id": "3443c7f8-cde6-4322-80fa-db9769b0bbb5",
   "metadata": {},
   "outputs": [],
   "source": [
    "import spacy"
   ]
  },
  {
   "cell_type": "code",
   "execution_count": 6,
   "id": "97ac323b-58cb-492a-9055-f14f56324ccf",
   "metadata": {},
   "outputs": [],
   "source": [
    "# nlp = spacy.load(\"en_core_web_sm\")"
   ]
  },
  {
   "cell_type": "code",
   "execution_count": 7,
   "id": "9aaa3980-2d7c-4560-953e-21cec534f784",
   "metadata": {},
   "outputs": [],
   "source": [
    "# doc = nlp(r)"
   ]
  },
  {
   "cell_type": "code",
   "execution_count": 8,
   "id": "d6ab0176-1ba8-45e2-834f-27938c408db8",
   "metadata": {},
   "outputs": [],
   "source": [
    "# doc.sents"
   ]
  },
  {
   "cell_type": "code",
   "execution_count": 9,
   "id": "be52356d-1a3d-4a36-8282-dbe0b8ce86a7",
   "metadata": {},
   "outputs": [],
   "source": [
    "# for i in doc.sents:\n",
    "    # print(i)"
   ]
  },
  {
   "cell_type": "code",
   "execution_count": 10,
   "id": "22426b33-3110-453f-8246-b2e72be18b7b",
   "metadata": {},
   "outputs": [
    {
     "name": "stdout",
     "output_type": "stream",
     "text": [
      "Dr. john have a degree of Phd.\n",
      "he also work as a data scientist.\n"
     ]
    }
   ],
   "source": [
    "nlp = spacy.load(\"en_core_web_sm\")\n",
    "doc = nlp(r)\n",
    "doc.sents\n",
    "for i in doc.sents:\n",
    "    print(i)"
   ]
  },
  {
   "cell_type": "code",
   "execution_count": 11,
   "id": "8dd0ab87-5a9d-4854-8d03-2dd52c65ead8",
   "metadata": {},
   "outputs": [
    {
     "name": "stdout",
     "output_type": "stream",
     "text": [
      "Dr.\n",
      "john\n",
      "have\n",
      "a\n",
      "degree\n",
      "of\n",
      "Phd\n",
      ".\n",
      "he\n",
      "also\n",
      "work\n",
      "as\n",
      "a\n",
      "data\n",
      "scientist\n",
      ".\n",
      "building\n",
      "model\n",
      "of\n",
      "nlp\n",
      ".\n"
     ]
    }
   ],
   "source": [
    "r = \"\"\"Dr. john have a degree of Phd. he also work as a data scientist. building model of nlp.\"\"\"\n",
    "nlp = spacy.load(\"en_core_web_sm\")\n",
    "doc = nlp(r)\n",
    "doc.sents\n",
    "for i in doc.sents:\n",
    "    for j in i:\n",
    "        print(j)"
   ]
  },
  {
   "cell_type": "code",
   "execution_count": 12,
   "id": "33def114-ee4c-43ce-962f-bb374008e72d",
   "metadata": {},
   "outputs": [
    {
     "data": {
      "text/plain": [
       "spacy.tokens.doc.Doc"
      ]
     },
     "execution_count": 12,
     "metadata": {},
     "output_type": "execute_result"
    }
   ],
   "source": [
    "type(doc)"
   ]
  },
  {
   "cell_type": "code",
   "execution_count": 13,
   "id": "2e746a5f-fa84-4059-b304-cb5d1fe1c39b",
   "metadata": {},
   "outputs": [],
   "source": [
    "\n",
    "import nltk"
   ]
  },
  {
   "cell_type": "code",
   "execution_count": 14,
   "id": "a96b47bf-5b0e-4e2e-a599-e134abf82394",
   "metadata": {},
   "outputs": [
    {
     "name": "stderr",
     "output_type": "stream",
     "text": [
      "[nltk_data] Downloading package punkt to C:\\Users\\rupali\n",
      "[nltk_data]     rakibe\\AppData\\Roaming\\nltk_data...\n",
      "[nltk_data]   Package punkt is already up-to-date!\n"
     ]
    },
    {
     "data": {
      "text/plain": [
       "True"
      ]
     },
     "execution_count": 14,
     "metadata": {},
     "output_type": "execute_result"
    }
   ],
   "source": [
    "nltk.download(\"punkt\")"
   ]
  },
  {
   "cell_type": "code",
   "execution_count": 15,
   "id": "5b6ccd26-e1d7-41a8-8ef7-bc98cb2a7a4b",
   "metadata": {},
   "outputs": [],
   "source": [
    "from nltk.tokenize import sent_tokenize"
   ]
  },
  {
   "cell_type": "code",
   "execution_count": 16,
   "id": "df3ea2ff-e2bb-4128-bc0d-f8a8c4dcf285",
   "metadata": {},
   "outputs": [
    {
     "data": {
      "text/plain": [
       "['Dr. john have a degree of Phd.',\n",
       " 'he also work as a data scientist.',\n",
       " 'building model of nlp.']"
      ]
     },
     "execution_count": 16,
     "metadata": {},
     "output_type": "execute_result"
    }
   ],
   "source": [
    "result = sent_tokenize(r)\n",
    "result"
   ]
  },
  {
   "cell_type": "code",
   "execution_count": 17,
   "id": "ee62fe93-10e1-4fe9-91ba-e29d75758881",
   "metadata": {},
   "outputs": [
    {
     "data": {
      "text/plain": [
       "list"
      ]
     },
     "execution_count": 17,
     "metadata": {},
     "output_type": "execute_result"
    }
   ],
   "source": [
    "type(result)"
   ]
  },
  {
   "cell_type": "code",
   "execution_count": 18,
   "id": "024f9538-6a24-4ebe-95fb-98d41581f958",
   "metadata": {},
   "outputs": [
    {
     "data": {
      "text/plain": [
       "'Dr. john have a degree of Phd.'"
      ]
     },
     "execution_count": 18,
     "metadata": {},
     "output_type": "execute_result"
    }
   ],
   "source": [
    "result[0]"
   ]
  },
  {
   "cell_type": "code",
   "execution_count": 19,
   "id": "9e48491d-54da-4d87-a878-9098c5adf54e",
   "metadata": {},
   "outputs": [],
   "source": [
    "from nltk.tokenize import word_tokenize"
   ]
  },
  {
   "cell_type": "code",
   "execution_count": 20,
   "id": "43a9e574-1647-4e38-9293-6e2f6b9b3125",
   "metadata": {},
   "outputs": [
    {
     "data": {
      "text/plain": [
       "['Dr.',\n",
       " 'john',\n",
       " 'have',\n",
       " 'a',\n",
       " 'degree',\n",
       " 'of',\n",
       " 'Phd',\n",
       " '.',\n",
       " 'he',\n",
       " 'also',\n",
       " 'work',\n",
       " 'as',\n",
       " 'a',\n",
       " 'data',\n",
       " 'scientist',\n",
       " '.',\n",
       " 'building',\n",
       " 'model',\n",
       " 'of',\n",
       " 'nlp',\n",
       " '.']"
      ]
     },
     "execution_count": 20,
     "metadata": {},
     "output_type": "execute_result"
    }
   ],
   "source": [
    "word_tokenize(r)"
   ]
  },
  {
   "cell_type": "code",
   "execution_count": 21,
   "id": "67b3ba7f-4d36-4fcd-8073-5cb72b5f8ab3",
   "metadata": {},
   "outputs": [],
   "source": [
    "r = \"\"\"Ms. pooja lover of pizza and it's cost $2 per slice.\"\"\""
   ]
  },
  {
   "cell_type": "code",
   "execution_count": 22,
   "id": "edd1367a-eb9b-4d27-93e3-1e63aba296af",
   "metadata": {},
   "outputs": [],
   "source": [
    "doc = nlp(r)"
   ]
  },
  {
   "cell_type": "code",
   "execution_count": 23,
   "id": "a78d089f-9fc5-4e6d-8e55-008e1977ba71",
   "metadata": {},
   "outputs": [
    {
     "name": "stdout",
     "output_type": "stream",
     "text": [
      "Ms.\n",
      "pooja\n",
      "lover\n",
      "of\n",
      "pizza\n",
      "and\n",
      "it\n",
      "'s\n",
      "cost\n",
      "$\n",
      "2\n",
      "per\n",
      "slice\n",
      ".\n"
     ]
    }
   ],
   "source": [
    "for i in doc:\n",
    "    print(i)"
   ]
  },
  {
   "cell_type": "code",
   "execution_count": 24,
   "id": "c6b0a280-1195-47ba-a48e-6d4bd9c160dd",
   "metadata": {},
   "outputs": [
    {
     "data": {
      "text/plain": [
       "spacy.tokens.doc.Doc"
      ]
     },
     "execution_count": 24,
     "metadata": {},
     "output_type": "execute_result"
    }
   ],
   "source": [
    "type(doc)"
   ]
  },
  {
   "cell_type": "code",
   "execution_count": 25,
   "id": "5505bddd-6978-4708-bf89-d7667ce5944c",
   "metadata": {},
   "outputs": [
    {
     "data": {
      "text/plain": [
       "False"
      ]
     },
     "execution_count": 25,
     "metadata": {},
     "output_type": "execute_result"
    }
   ],
   "source": [
    "token1 = doc[0]\n",
    "token1.is_alpha"
   ]
  },
  {
   "cell_type": "code",
   "execution_count": 26,
   "id": "0c6438fc-0f00-45fc-a070-430a2658ed56",
   "metadata": {},
   "outputs": [
    {
     "data": {
      "text/plain": [
       "$"
      ]
     },
     "execution_count": 26,
     "metadata": {},
     "output_type": "execute_result"
    }
   ],
   "source": [
    "token2 = doc[9]\n",
    "token2"
   ]
  },
  {
   "cell_type": "code",
   "execution_count": 27,
   "id": "64edc8a6-0377-4ef8-ab79-da0c2f6289ae",
   "metadata": {},
   "outputs": [
    {
     "data": {
      "text/plain": [
       "True"
      ]
     },
     "execution_count": 27,
     "metadata": {},
     "output_type": "execute_result"
    }
   ],
   "source": [
    "token2.is_currency"
   ]
  },
  {
   "cell_type": "code",
   "execution_count": 28,
   "id": "fc254706-6af7-434a-9481-7d47d7da2f93",
   "metadata": {},
   "outputs": [],
   "source": [
    "# for i in doc:\n",
    "#     if doc(i).is_currency == True:\n",
    "#         print(i)"
   ]
  },
  {
   "cell_type": "code",
   "execution_count": 29,
   "id": "8e82ce2f-9052-4476-9a8e-721bf4cce326",
   "metadata": {},
   "outputs": [
    {
     "data": {
      "text/plain": [
       "2"
      ]
     },
     "execution_count": 29,
     "metadata": {},
     "output_type": "execute_result"
    }
   ],
   "source": [
    "token3 = doc[10]\n",
    "token3"
   ]
  },
  {
   "cell_type": "code",
   "execution_count": 30,
   "id": "36ccab36-8a5a-44bd-85de-04d4cc74461b",
   "metadata": {},
   "outputs": [
    {
     "data": {
      "text/plain": [
       "True"
      ]
     },
     "execution_count": 30,
     "metadata": {},
     "output_type": "execute_result"
    }
   ],
   "source": [
    "token3.is_digit"
   ]
  },
  {
   "cell_type": "code",
   "execution_count": 31,
   "id": "01dbcd7a-8c00-4f5a-a8d2-4b8d8546ed5c",
   "metadata": {},
   "outputs": [
    {
     "name": "stdout",
     "output_type": "stream",
     "text": [
      "Ms. pooja lover of pizza and it's cost $2 per slice.\n"
     ]
    }
   ],
   "source": [
    "for i in doc.sents:\n",
    "    print(i)"
   ]
  },
  {
   "cell_type": "code",
   "execution_count": 32,
   "id": "f9a8b1cb-a953-479f-8bf5-ad8b32899478",
   "metadata": {},
   "outputs": [
    {
     "name": "stdout",
     "output_type": "stream",
     "text": [
      "Ms.\n",
      "pooja\n",
      "lover\n",
      "of\n",
      "pizza\n",
      "and\n",
      "it\n",
      "'s\n",
      "cost\n",
      "$\n",
      "2\n",
      "per\n",
      "slice\n",
      ".\n"
     ]
    }
   ],
   "source": [
    "for i in doc.sents:\n",
    "    for j in i:\n",
    "        print(j)"
   ]
  },
  {
   "cell_type": "code",
   "execution_count": 33,
   "id": "c718c20a-a55e-4006-9e97-f923834d9db2",
   "metadata": {},
   "outputs": [],
   "source": [
    "r = \"\"\"Ms. pooja lover of pizza. and it's cost $2 per slice. and it's profit is 24$ million\"\"\"\n",
    "doc = nlp(r)"
   ]
  },
  {
   "cell_type": "code",
   "execution_count": 34,
   "id": "205f0acb-e53f-4801-9d25-636508ccc428",
   "metadata": {},
   "outputs": [
    {
     "name": "stdout",
     "output_type": "stream",
     "text": [
      "Ms. pooja lover of pizza.\n",
      "and it's cost $2 per slice.\n",
      "and it's profit is 24$ million\n"
     ]
    }
   ],
   "source": [
    "for i in doc.sents:\n",
    "    print(i)"
   ]
  },
  {
   "cell_type": "code",
   "execution_count": 35,
   "id": "17375e6a-74ec-4c8e-86de-148f197987d7",
   "metadata": {},
   "outputs": [
    {
     "name": "stdout",
     "output_type": "stream",
     "text": [
      "Ms.\n",
      "pooja\n",
      "lover\n",
      "of\n",
      "pizza\n",
      "and\n",
      "it\n",
      "'s\n",
      "cost\n",
      "$\n",
      "2\n",
      "per\n",
      "slice\n",
      "and\n",
      "it\n",
      "'s\n",
      "profit\n",
      "is\n",
      "24\n",
      "$\n"
     ]
    }
   ],
   "source": [
    "for i in doc.sents:\n",
    "    for word in i:\n",
    "        if word.is_sent_end == False:\n",
    "            print(word)"
   ]
  },
  {
   "cell_type": "code",
   "execution_count": 36,
   "id": "23a955c8-7c23-44ba-a8da-d6a44a7c79ce",
   "metadata": {},
   "outputs": [
    {
     "name": "stdout",
     "output_type": "stream",
     "text": [
      ".\n",
      ".\n",
      "million\n"
     ]
    }
   ],
   "source": [
    "for i in doc.sents:\n",
    "    for word in i:\n",
    "        if word.is_sent_end == True:\n",
    "            print(word)"
   ]
  },
  {
   "cell_type": "code",
   "execution_count": 37,
   "id": "d5b90921-61e0-4a85-91ca-9a1aeabae740",
   "metadata": {},
   "outputs": [],
   "source": [
    "s = \"\"\"Modern High School, 8th Grade student information\n",
    "\n",
    "===============================================\n",
    "\n",
    "Name    Birthday email\n",
    "\n",
    "------ ------ --------\n",
    "Virat 5th June, 1882 virat@kohli.com\n",
    "Maria 12 April, 2011 maria@sharapova.com\n",
    "Serena 24 June, 1998 serena@williams.com\n",
    "Joe 1 May, 1997 joe@root.com\"\"\""
   ]
  },
  {
   "cell_type": "code",
   "execution_count": 38,
   "id": "7dda1bd3-345f-4899-8dc8-16477c16951f",
   "metadata": {},
   "outputs": [],
   "source": [
    "doc = nlp(s)"
   ]
  },
  {
   "cell_type": "code",
   "execution_count": 39,
   "id": "3484b702-80e6-440f-9d30-27774bbbac87",
   "metadata": {},
   "outputs": [
    {
     "data": {
      "text/plain": [
       "<generator at 0x2a278f6dfc0>"
      ]
     },
     "execution_count": 39,
     "metadata": {},
     "output_type": "execute_result"
    }
   ],
   "source": [
    "doc.sents"
   ]
  },
  {
   "cell_type": "code",
   "execution_count": 40,
   "id": "4bdcc8be-ade8-4951-a64d-3c1510132d9f",
   "metadata": {},
   "outputs": [
    {
     "name": "stdout",
     "output_type": "stream",
     "text": [
      "Modern High School, 8th Grade student information\n",
      "\n",
      "===============================================\n",
      "\n",
      "Name    Birthday email\n",
      "\n",
      "------ ------ --------\n",
      "Virat 5th June, 1882 virat@kohli.com\n",
      "\n",
      "Maria 12 April, 2011 maria@sharapova.com\n",
      "Serena 24 June, 1998 serena@williams.com\n",
      "\n",
      "Joe 1 May, 1997 joe@root.com\n"
     ]
    }
   ],
   "source": [
    "for i in doc.sents:\n",
    "    print(i)"
   ]
  },
  {
   "cell_type": "code",
   "execution_count": 41,
   "id": "3a785201-c6f5-4a00-8c89-847d9e460293",
   "metadata": {},
   "outputs": [],
   "source": [
    "email = []\n",
    "for i in doc.sents:\n",
    "    for word in i:\n",
    "        if word.like_email == True:\n",
    "            email.append(word)"
   ]
  },
  {
   "cell_type": "code",
   "execution_count": 42,
   "id": "835c9983-8cf1-469f-beeb-7d71edf14ec3",
   "metadata": {},
   "outputs": [
    {
     "data": {
      "text/plain": [
       "[virat@kohli.com, maria@sharapova.com, serena@williams.com, joe@root.com]"
      ]
     },
     "execution_count": 42,
     "metadata": {},
     "output_type": "execute_result"
    }
   ],
   "source": [
    "email"
   ]
  },
  {
   "cell_type": "code",
   "execution_count": 43,
   "id": "b65810e2-4a05-4ea2-b445-3a942dce474f",
   "metadata": {},
   "outputs": [],
   "source": [
    "import pandas as pd"
   ]
  },
  {
   "cell_type": "code",
   "execution_count": 44,
   "id": "cf67d734-aff4-41bf-a593-1c3a67a7fba4",
   "metadata": {},
   "outputs": [
    {
     "data": {
      "text/plain": [
       "0        virat@kohli.com\n",
       "1    maria@sharapova.com\n",
       "2    serena@williams.com\n",
       "3           joe@root.com\n",
       "dtype: object"
      ]
     },
     "execution_count": 44,
     "metadata": {},
     "output_type": "execute_result"
    }
   ],
   "source": [
    "email_df = pd.Series(email)\n",
    "email_df"
   ]
  },
  {
   "cell_type": "markdown",
   "id": "bea3082a-c806-410e-b471-122ba6aeb34b",
   "metadata": {},
   "source": [
    "# lemmetization and stemming"
   ]
  },
  {
   "cell_type": "code",
   "execution_count": 45,
   "id": "70de0607-2fd9-478b-89d4-5ddc8ebedeb1",
   "metadata": {},
   "outputs": [],
   "source": [
    "a = \"I am eating pizza now and yesterday I ate Kulcha and tommorow I will eat burger.\""
   ]
  },
  {
   "cell_type": "code",
   "execution_count": 46,
   "id": "1b0f8f54-04c8-4231-b336-e9cae2889185",
   "metadata": {},
   "outputs": [],
   "source": [
    "r = ['Eating','eats',\"ate\",'eat','adjustable','rafting','ability','meeting']"
   ]
  },
  {
   "cell_type": "code",
   "execution_count": 47,
   "id": "5e885e52-1baa-4ce7-a216-a11f9f1db16e",
   "metadata": {},
   "outputs": [],
   "source": [
    "import nltk"
   ]
  },
  {
   "cell_type": "code",
   "execution_count": 48,
   "id": "78b1fbf9-9cf4-456b-9d98-9e922c9e37fb",
   "metadata": {},
   "outputs": [],
   "source": [
    "from nltk.stem import PorterStemmer"
   ]
  },
  {
   "cell_type": "code",
   "execution_count": 49,
   "id": "1f2ebc9a-c74a-477d-928e-45632387e1f9",
   "metadata": {},
   "outputs": [],
   "source": [
    "stemmer = PorterStemmer()"
   ]
  },
  {
   "cell_type": "code",
   "execution_count": 50,
   "id": "7186c908-5162-4038-9ff7-3ed74be8d1d8",
   "metadata": {},
   "outputs": [
    {
     "data": {
      "text/plain": [
       "'eat'"
      ]
     },
     "execution_count": 50,
     "metadata": {},
     "output_type": "execute_result"
    }
   ],
   "source": [
    "stemmer.stem(\"Eating\")"
   ]
  },
  {
   "cell_type": "code",
   "execution_count": 51,
   "id": "098249f8-ac68-4679-902f-295a1334746c",
   "metadata": {},
   "outputs": [
    {
     "data": {
      "text/plain": [
       "'adjust'"
      ]
     },
     "execution_count": 51,
     "metadata": {},
     "output_type": "execute_result"
    }
   ],
   "source": [
    "stemmer.stem('adjustable')"
   ]
  },
  {
   "cell_type": "code",
   "execution_count": 52,
   "id": "477c9de6-9155-4b46-8bad-d18845e144c8",
   "metadata": {},
   "outputs": [
    {
     "name": "stdout",
     "output_type": "stream",
     "text": [
      "Eating : eat\n",
      "eats : eat\n",
      "ate : ate\n",
      "eat : eat\n",
      "adjustable : adjust\n",
      "rafting : raft\n",
      "ability : abil\n",
      "meeting : meet\n"
     ]
    }
   ],
   "source": [
    "for i in r:\n",
    "    print(i, \":\", stemmer.stem(i))"
   ]
  },
  {
   "cell_type": "code",
   "execution_count": 53,
   "id": "8ed3d3d6-51ef-405c-a27d-97babfb8c192",
   "metadata": {},
   "outputs": [
    {
     "data": {
      "text/plain": [
       "'Eating eats ate eat adjustable rafting ability meeting'"
      ]
     },
     "execution_count": 53,
     "metadata": {},
     "output_type": "execute_result"
    }
   ],
   "source": [
    "a = \" \".join(r)\n",
    "a"
   ]
  },
  {
   "cell_type": "code",
   "execution_count": 54,
   "id": "027bb039-99e8-48a5-b644-c67234714645",
   "metadata": {},
   "outputs": [],
   "source": [
    "doc = nlp(a)"
   ]
  },
  {
   "cell_type": "code",
   "execution_count": 55,
   "id": "2748b7a0-37df-4ce1-9d70-bfc0d89a22ad",
   "metadata": {},
   "outputs": [
    {
     "name": "stdout",
     "output_type": "stream",
     "text": [
      "Eating\n",
      "eats\n",
      "ate\n",
      "eat\n",
      "adjustable\n",
      "rafting\n",
      "ability\n",
      "meeting\n"
     ]
    }
   ],
   "source": [
    "for i in doc:\n",
    "    print(i)"
   ]
  },
  {
   "cell_type": "code",
   "execution_count": 56,
   "id": "7a028e34-e408-4e09-86af-7433ce106170",
   "metadata": {},
   "outputs": [
    {
     "name": "stdout",
     "output_type": "stream",
     "text": [
      "Eating : 9837207709914848172\n",
      "eats : 9837207709914848172\n",
      "ate : 9837207709914848172\n",
      "eat : 9837207709914848172\n",
      "adjustable : 6033511944150694480\n",
      "rafting : 7154368781129989833\n",
      "ability : 11565809527369121409\n",
      "meeting : 14798207169164081740\n"
     ]
    }
   ],
   "source": [
    "for i in doc:\n",
    "    print(i,\":\",i.lemma)"
   ]
  },
  {
   "cell_type": "code",
   "execution_count": 57,
   "id": "1489e631-5701-4f9a-a75f-799ce597181b",
   "metadata": {},
   "outputs": [
    {
     "name": "stdout",
     "output_type": "stream",
     "text": [
      "Eating : eat\n",
      "eats : eat\n",
      "ate : eat\n",
      "eat : eat\n",
      "adjustable : adjustable\n",
      "rafting : raft\n",
      "ability : ability\n",
      "meeting : meeting\n"
     ]
    }
   ],
   "source": [
    "for i in doc:\n",
    "    print(i,\":\",i.lemma_)"
   ]
  },
  {
   "cell_type": "code",
   "execution_count": 58,
   "id": "9b520b9c-f9d5-43bb-af2f-f169219018a5",
   "metadata": {},
   "outputs": [
    {
     "name": "stdout",
     "output_type": "stream",
     "text": [
      "Eating : VERB\n",
      "eats : NOUN\n",
      "ate : VERB\n",
      "eat : VERB\n",
      "adjustable : ADJ\n",
      "rafting : VERB\n",
      "ability : NOUN\n",
      "meeting : NOUN\n"
     ]
    }
   ],
   "source": [
    "for i in doc:\n",
    "    print(i,\":\",i.pos_)"
   ]
  },
  {
   "cell_type": "code",
   "execution_count": 59,
   "id": "65e09617-26e2-430f-bc10-2d6320f028fe",
   "metadata": {},
   "outputs": [
    {
     "name": "stdout",
     "output_type": "stream",
     "text": [
      "Eating : 100\n",
      "eats : 92\n",
      "ate : 100\n",
      "eat : 100\n",
      "adjustable : 84\n",
      "rafting : 100\n",
      "ability : 92\n",
      "meeting : 92\n"
     ]
    }
   ],
   "source": [
    "for i in doc:\n",
    "    print(i,\":\",i.pos)"
   ]
  },
  {
   "cell_type": "code",
   "execution_count": 61,
   "id": "9f4ae32a-ac9c-4bc5-8b61-9ebcbffaf8b7",
   "metadata": {},
   "outputs": [
    {
     "name": "stdout",
     "output_type": "stream",
     "text": [
      "Eating : VERB : 100\n",
      "eats : NOUN : 92\n",
      "ate : VERB : 100\n",
      "eat : VERB : 100\n",
      "adjustable : ADJ : 84\n",
      "rafting : VERB : 100\n",
      "ability : NOUN : 92\n",
      "meeting : NOUN : 92\n"
     ]
    }
   ],
   "source": [
    "for i in doc:\n",
    "    print(i,\":\",i.pos_,\":\",i.pos)"
   ]
  },
  {
   "cell_type": "code",
   "execution_count": 63,
   "id": "c3c806c1-cfdd-4848-b8f3-209ee91110ac",
   "metadata": {},
   "outputs": [
    {
     "name": "stdout",
     "output_type": "stream",
     "text": [
      "Eating : VERB : 100 verb\n",
      "eats : NOUN : 92 noun\n",
      "ate : VERB : 100 verb\n",
      "eat : VERB : 100 verb\n",
      "adjustable : ADJ : 84 adjective\n",
      "rafting : VERB : 100 verb\n",
      "ability : NOUN : 92 noun\n",
      "meeting : NOUN : 92 noun\n"
     ]
    }
   ],
   "source": [
    "for i in doc:\n",
    "    print(i,\":\",i.pos_,\":\",i.pos,spacy.explain(i.pos_))"
   ]
  },
  {
   "cell_type": "code",
   "execution_count": 65,
   "id": "439b9536-de7a-4a27-9885-027a72994720",
   "metadata": {},
   "outputs": [],
   "source": [
    "r = \"\"\"Paradise Airlines Flight 901A was a passenger flight from San Jose Municipal \n",
    "Airport to Tahoe Valley Airport in the United States. On March 1, 1964, the Lockheed L-049 Constellation (example\n",
    "pictured) serving the flight crashed near Genoa Peak, on the eastern side of Lake Tahoe, killing all 85 aboard\"\"\""
   ]
  },
  {
   "cell_type": "code",
   "execution_count": 66,
   "id": "1e48dd68-5993-4aea-a7ac-00a98b2d2a59",
   "metadata": {},
   "outputs": [],
   "source": [
    "doc1 = nlp(r)"
   ]
  },
  {
   "cell_type": "code",
   "execution_count": 69,
   "id": "7b111eae-0e8b-4490-833c-b679d95f11c8",
   "metadata": {},
   "outputs": [
    {
     "name": "stdout",
     "output_type": "stream",
     "text": [
      "Paradise : PROPN\n",
      "Airlines : PROPN\n",
      "Flight : PROPN\n",
      "901A : PROPN\n",
      "was : AUX\n",
      "a : DET\n",
      "passenger : NOUN\n",
      "flight : NOUN\n",
      "from : ADP\n",
      "San : PROPN\n",
      "Jose : PROPN\n",
      "Municipal : PROPN\n",
      "\n",
      " : SPACE\n",
      "Airport : PROPN\n",
      "to : ADP\n",
      "Tahoe : PROPN\n",
      "Valley : PROPN\n",
      "Airport : PROPN\n",
      "in : ADP\n",
      "the : DET\n",
      "United : PROPN\n",
      "States : PROPN\n",
      ". : PUNCT\n",
      "On : ADP\n",
      "March : PROPN\n",
      "1 : NUM\n",
      ", : PUNCT\n",
      "1964 : NUM\n",
      ", : PUNCT\n",
      "the : DET\n",
      "Lockheed : PROPN\n",
      "L-049 : PROPN\n",
      "Constellation : PROPN\n",
      "( : PUNCT\n",
      "example : NOUN\n",
      "\n",
      " : SPACE\n",
      "pictured : VERB\n",
      ") : PUNCT\n",
      "serving : VERB\n",
      "the : DET\n",
      "flight : NOUN\n",
      "crashed : VERB\n",
      "near : ADP\n",
      "Genoa : PROPN\n",
      "Peak : PROPN\n",
      ", : PUNCT\n",
      "on : ADP\n",
      "the : DET\n",
      "eastern : ADJ\n",
      "side : NOUN\n",
      "of : ADP\n",
      "Lake : PROPN\n",
      "Tahoe : PROPN\n",
      ", : PUNCT\n",
      "killing : VERB\n",
      "all : DET\n",
      "85 : NUM\n",
      "aboard : ADP\n"
     ]
    }
   ],
   "source": [
    "for i in doc1:\n",
    "    print(i,\":\",i.pos_)"
   ]
  },
  {
   "cell_type": "code",
   "execution_count": 70,
   "id": "86c76cc1-63d9-4dc3-8011-5a8b95b73e53",
   "metadata": {},
   "outputs": [
    {
     "name": "stdout",
     "output_type": "stream",
     "text": [
      "Paradise : 96\n",
      "Airlines : 96\n",
      "Flight : 96\n",
      "901A : 96\n",
      "was : 87\n",
      "a : 90\n",
      "passenger : 92\n",
      "flight : 92\n",
      "from : 85\n",
      "San : 96\n",
      "Jose : 96\n",
      "Municipal : 96\n",
      "\n",
      " : 103\n",
      "Airport : 96\n",
      "to : 85\n",
      "Tahoe : 96\n",
      "Valley : 96\n",
      "Airport : 96\n",
      "in : 85\n",
      "the : 90\n",
      "United : 96\n",
      "States : 96\n",
      ". : 97\n",
      "On : 85\n",
      "March : 96\n",
      "1 : 93\n",
      ", : 97\n",
      "1964 : 93\n",
      ", : 97\n",
      "the : 90\n",
      "Lockheed : 96\n",
      "L-049 : 96\n",
      "Constellation : 96\n",
      "( : 97\n",
      "example : 92\n",
      "\n",
      " : 103\n",
      "pictured : 100\n",
      ") : 97\n",
      "serving : 100\n",
      "the : 90\n",
      "flight : 92\n",
      "crashed : 100\n",
      "near : 85\n",
      "Genoa : 96\n",
      "Peak : 96\n",
      ", : 97\n",
      "on : 85\n",
      "the : 90\n",
      "eastern : 84\n",
      "side : 92\n",
      "of : 85\n",
      "Lake : 96\n",
      "Tahoe : 96\n",
      ", : 97\n",
      "killing : 100\n",
      "all : 90\n",
      "85 : 93\n",
      "aboard : 85\n"
     ]
    }
   ],
   "source": [
    "for i in doc1:\n",
    "    print(i,\":\",i.pos)"
   ]
  },
  {
   "cell_type": "code",
   "execution_count": 72,
   "id": "ebf0c1e3-8c30-4b1b-8749-66081de164ee",
   "metadata": {},
   "outputs": [
    {
     "name": "stdout",
     "output_type": "stream",
     "text": [
      "Paradise : PROPN : proper noun\n",
      "Airlines : PROPN : proper noun\n",
      "Flight : PROPN : proper noun\n",
      "901A : PROPN : proper noun\n",
      "was : AUX : auxiliary\n",
      "a : DET : determiner\n",
      "passenger : NOUN : noun\n",
      "flight : NOUN : noun\n",
      "from : ADP : adposition\n",
      "San : PROPN : proper noun\n",
      "Jose : PROPN : proper noun\n",
      "Municipal : PROPN : proper noun\n",
      "\n",
      " : SPACE : space\n",
      "Airport : PROPN : proper noun\n",
      "to : ADP : adposition\n",
      "Tahoe : PROPN : proper noun\n",
      "Valley : PROPN : proper noun\n",
      "Airport : PROPN : proper noun\n",
      "in : ADP : adposition\n",
      "the : DET : determiner\n",
      "United : PROPN : proper noun\n",
      "States : PROPN : proper noun\n",
      ". : PUNCT : punctuation\n",
      "On : ADP : adposition\n",
      "March : PROPN : proper noun\n",
      "1 : NUM : numeral\n",
      ", : PUNCT : punctuation\n",
      "1964 : NUM : numeral\n",
      ", : PUNCT : punctuation\n",
      "the : DET : determiner\n",
      "Lockheed : PROPN : proper noun\n",
      "L-049 : PROPN : proper noun\n",
      "Constellation : PROPN : proper noun\n",
      "( : PUNCT : punctuation\n",
      "example : NOUN : noun\n",
      "\n",
      " : SPACE : space\n",
      "pictured : VERB : verb\n",
      ") : PUNCT : punctuation\n",
      "serving : VERB : verb\n",
      "the : DET : determiner\n",
      "flight : NOUN : noun\n",
      "crashed : VERB : verb\n",
      "near : ADP : adposition\n",
      "Genoa : PROPN : proper noun\n",
      "Peak : PROPN : proper noun\n",
      ", : PUNCT : punctuation\n",
      "on : ADP : adposition\n",
      "the : DET : determiner\n",
      "eastern : ADJ : adjective\n",
      "side : NOUN : noun\n",
      "of : ADP : adposition\n",
      "Lake : PROPN : proper noun\n",
      "Tahoe : PROPN : proper noun\n",
      ", : PUNCT : punctuation\n",
      "killing : VERB : verb\n",
      "all : DET : determiner\n",
      "85 : NUM : numeral\n",
      "aboard : ADP : adposition\n"
     ]
    }
   ],
   "source": [
    "for i in doc1:\n",
    "    print(i,\":\",i.pos_,\":\",spacy.explain(i.pos_))"
   ]
  },
  {
   "cell_type": "code",
   "execution_count": 75,
   "id": "f0d83cd3-aef5-4099-8484-0e2bc61013b3",
   "metadata": {},
   "outputs": [
    {
     "name": "stdout",
     "output_type": "stream",
     "text": [
      "Paradise : 96 : None\n",
      "Airlines : 96 : None\n",
      "Flight : 96 : None\n",
      "901A : 96 : None\n",
      "was : 87 : None\n",
      "a : 90 : None\n",
      "passenger : 92 : None\n",
      "flight : 92 : None\n",
      "from : 85 : None\n",
      "San : 96 : None\n",
      "Jose : 96 : None\n",
      "Municipal : 96 : None\n",
      "\n",
      " : 103 : None\n",
      "Airport : 96 : None\n",
      "to : 85 : None\n",
      "Tahoe : 96 : None\n",
      "Valley : 96 : None\n",
      "Airport : 96 : None\n",
      "in : 85 : None\n",
      "the : 90 : None\n",
      "United : 96 : None\n",
      "States : 96 : None\n",
      ". : 97 : None\n",
      "On : 85 : None\n",
      "March : 96 : None\n",
      "1 : 93 : None\n",
      ", : 97 : None\n",
      "1964 : 93 : None\n",
      ", : 97 : None\n",
      "the : 90 : None\n",
      "Lockheed : 96 : None\n",
      "L-049 : 96 : None\n",
      "Constellation : 96 : None\n",
      "( : 97 : None\n",
      "example : 92 : None\n",
      "\n",
      " : 103 : None\n",
      "pictured : 100 : None\n",
      ") : 97 : None\n",
      "serving : 100 : None\n",
      "the : 90 : None\n",
      "flight : 92 : None\n",
      "crashed : 100 : None\n",
      "near : 85 : None\n",
      "Genoa : 96 : None\n",
      "Peak : 96 : None\n",
      ", : 97 : None\n",
      "on : 85 : None\n",
      "the : 90 : None\n",
      "eastern : 84 : None\n",
      "side : 92 : None\n",
      "of : 85 : None\n",
      "Lake : 96 : None\n",
      "Tahoe : 96 : None\n",
      ", : 97 : None\n",
      "killing : 100 : None\n",
      "all : 90 : None\n",
      "85 : 93 : None\n",
      "aboard : 85 : None\n"
     ]
    }
   ],
   "source": [
    "for i in doc1:\n",
    "    print(i,\":\",i.pos,\":\",spacy.explain(i.pos))"
   ]
  },
  {
   "cell_type": "code",
   "execution_count": null,
   "id": "9801cc12-e2a3-4c53-ba87-adf00a5558e2",
   "metadata": {},
   "outputs": [],
   "source": [
    "for"
   ]
  },
  {
   "cell_type": "code",
   "execution_count": 68,
   "id": "9fff3d18-9238-4894-bbdc-d30396e4019e",
   "metadata": {},
   "outputs": [
    {
     "name": "stdout",
     "output_type": "stream",
     "text": [
      "Paradise : PROPN : 96 proper noun\n",
      "Airlines : PROPN : 96 proper noun\n",
      "Flight : PROPN : 96 proper noun\n",
      "901A : PROPN : 96 proper noun\n",
      "was : AUX : 87 auxiliary\n",
      "a : DET : 90 determiner\n",
      "passenger : NOUN : 92 noun\n",
      "flight : NOUN : 92 noun\n",
      "from : ADP : 85 adposition\n",
      "San : PROPN : 96 proper noun\n",
      "Jose : PROPN : 96 proper noun\n",
      "Municipal : PROPN : 96 proper noun\n",
      "\n",
      " : SPACE : 103 space\n",
      "Airport : PROPN : 96 proper noun\n",
      "to : ADP : 85 adposition\n",
      "Tahoe : PROPN : 96 proper noun\n",
      "Valley : PROPN : 96 proper noun\n",
      "Airport : PROPN : 96 proper noun\n",
      "in : ADP : 85 adposition\n",
      "the : DET : 90 determiner\n",
      "United : PROPN : 96 proper noun\n",
      "States : PROPN : 96 proper noun\n",
      ". : PUNCT : 97 punctuation\n",
      "On : ADP : 85 adposition\n",
      "March : PROPN : 96 proper noun\n",
      "1 : NUM : 93 numeral\n",
      ", : PUNCT : 97 punctuation\n",
      "1964 : NUM : 93 numeral\n",
      ", : PUNCT : 97 punctuation\n",
      "the : DET : 90 determiner\n",
      "Lockheed : PROPN : 96 proper noun\n",
      "L-049 : PROPN : 96 proper noun\n",
      "Constellation : PROPN : 96 proper noun\n",
      "( : PUNCT : 97 punctuation\n",
      "example : NOUN : 92 noun\n",
      "\n",
      " : SPACE : 103 space\n",
      "pictured : VERB : 100 verb\n",
      ") : PUNCT : 97 punctuation\n",
      "serving : VERB : 100 verb\n",
      "the : DET : 90 determiner\n",
      "flight : NOUN : 92 noun\n",
      "crashed : VERB : 100 verb\n",
      "near : ADP : 85 adposition\n",
      "Genoa : PROPN : 96 proper noun\n",
      "Peak : PROPN : 96 proper noun\n",
      ", : PUNCT : 97 punctuation\n",
      "on : ADP : 85 adposition\n",
      "the : DET : 90 determiner\n",
      "eastern : ADJ : 84 adjective\n",
      "side : NOUN : 92 noun\n",
      "of : ADP : 85 adposition\n",
      "Lake : PROPN : 96 proper noun\n",
      "Tahoe : PROPN : 96 proper noun\n",
      ", : PUNCT : 97 punctuation\n",
      "killing : VERB : 100 verb\n",
      "all : DET : 90 determiner\n",
      "85 : NUM : 93 numeral\n",
      "aboard : ADP : 85 adposition\n"
     ]
    }
   ],
   "source": [
    "for i in doc1:\n",
    "    print(i,\":\",i.pos_,\":\",i.pos,spacy.explain(i.pos_))"
   ]
  },
  {
   "cell_type": "code",
   "execution_count": 76,
   "id": "cac174ac-6f52-4272-a8d6-e7087bcf1cd4",
   "metadata": {},
   "outputs": [],
   "source": [
    "doc2 = nlp(\"waw! dr. strange movie earn $455 billion dollars in ten days\")"
   ]
  },
  {
   "cell_type": "code",
   "execution_count": 77,
   "id": "90be0ded-bb21-4060-87ad-5b9060695db2",
   "metadata": {},
   "outputs": [
    {
     "name": "stdout",
     "output_type": "stream",
     "text": [
      "waw : PROPN : proper noun\n",
      "! : PUNCT : punctuation\n",
      "dr : PROPN : proper noun\n",
      ". : PROPN : proper noun\n",
      "strange : PROPN : proper noun\n",
      "movie : NOUN : noun\n",
      "earn : VERB : verb\n",
      "$ : SYM : symbol\n",
      "455 : NUM : numeral\n",
      "billion : NUM : numeral\n",
      "dollars : NOUN : noun\n",
      "in : ADP : adposition\n",
      "ten : NUM : numeral\n",
      "days : NOUN : noun\n"
     ]
    }
   ],
   "source": [
    "for i in doc2:\n",
    "    print(i,\":\",i.pos_,\":\",spacy.explain(i.pos_))"
   ]
  },
  {
   "cell_type": "code",
   "execution_count": 78,
   "id": "83ae33db-deb5-458f-b257-88dffc015d8b",
   "metadata": {},
   "outputs": [
    {
     "name": "stdout",
     "output_type": "stream",
     "text": [
      "waw : PROPN : proper noun : NNP\n",
      "! : PUNCT : punctuation : .\n",
      "dr : PROPN : proper noun : NNP\n",
      ". : PROPN : proper noun : NNP\n",
      "strange : PROPN : proper noun : NNP\n",
      "movie : NOUN : noun : NN\n",
      "earn : VERB : verb : VBP\n",
      "$ : SYM : symbol : $\n",
      "455 : NUM : numeral : CD\n",
      "billion : NUM : numeral : CD\n",
      "dollars : NOUN : noun : NNS\n",
      "in : ADP : adposition : IN\n",
      "ten : NUM : numeral : CD\n",
      "days : NOUN : noun : NNS\n"
     ]
    }
   ],
   "source": [
    "for i in doc2:\n",
    "    print(i,\":\",i.pos_,\":\",spacy.explain(i.pos_),\":\",i.tag_)"
   ]
  },
  {
   "cell_type": "code",
   "execution_count": 79,
   "id": "54f71358-e8f7-4e8b-8ab4-46332b455cb5",
   "metadata": {},
   "outputs": [
    {
     "name": "stdout",
     "output_type": "stream",
     "text": [
      "waw : PROPN : proper noun : 15794550382381185553\n",
      "! : PUNCT : punctuation : 12646065887601541794\n",
      "dr : PROPN : proper noun : 15794550382381185553\n",
      ". : PROPN : proper noun : 15794550382381185553\n",
      "strange : PROPN : proper noun : 15794550382381185553\n",
      "movie : NOUN : noun : 15308085513773655218\n",
      "earn : VERB : verb : 9188597074677201817\n",
      "$ : SYM : symbol : 11283501755624150392\n",
      "455 : NUM : numeral : 8427216679587749980\n",
      "billion : NUM : numeral : 8427216679587749980\n",
      "dollars : NOUN : noun : 783433942507015291\n",
      "in : ADP : adposition : 1292078113972184607\n",
      "ten : NUM : numeral : 8427216679587749980\n",
      "days : NOUN : noun : 783433942507015291\n"
     ]
    }
   ],
   "source": [
    "for i in doc2:\n",
    "    print(i,\":\",i.pos_,\":\",spacy.explain(i.pos_),\":\",i.tag)"
   ]
  },
  {
   "cell_type": "code",
   "execution_count": 80,
   "id": "e0b608f4-8efc-4dbe-acae-30ad287d817b",
   "metadata": {},
   "outputs": [
    {
     "name": "stdout",
     "output_type": "stream",
     "text": [
      "waw : PROPN : proper noun : NNP : noun, proper singular\n",
      "! : PUNCT : punctuation : . : punctuation mark, sentence closer\n",
      "dr : PROPN : proper noun : NNP : noun, proper singular\n",
      ". : PROPN : proper noun : NNP : noun, proper singular\n",
      "strange : PROPN : proper noun : NNP : noun, proper singular\n",
      "movie : NOUN : noun : NN : noun, singular or mass\n",
      "earn : VERB : verb : VBP : verb, non-3rd person singular present\n",
      "$ : SYM : symbol : $ : symbol, currency\n",
      "455 : NUM : numeral : CD : cardinal number\n",
      "billion : NUM : numeral : CD : cardinal number\n",
      "dollars : NOUN : noun : NNS : noun, plural\n",
      "in : ADP : adposition : IN : conjunction, subordinating or preposition\n",
      "ten : NUM : numeral : CD : cardinal number\n",
      "days : NOUN : noun : NNS : noun, plural\n"
     ]
    }
   ],
   "source": [
    "for i in doc2:\n",
    "    print(i,\":\",i.pos_,\":\",spacy.explain(i.pos_),\":\",i.tag_,\":\",spacy.explain(i.tag_))"
   ]
  },
  {
   "cell_type": "code",
   "execution_count": 81,
   "id": "ee29c637-5e74-49b1-88af-8a75f38e9073",
   "metadata": {},
   "outputs": [],
   "source": [
    "a = \"\"\"Ds are typically stored in the backend database as part of the data schema. \n",
    "Each entity within the database is associated with a unique ID field, which serves as its primary key. \n",
    "This allows for fast and efficient querying, indexing, and retrieval of data based on these IDs.\n",
    "In the context of NLP, IDs stored in the backend may be utilized in various ways:\n",
    " NLP systems may use IDs to retrieve specific data or records from the backend database.\n",
    " For example, when processing user queries or commands, the NLP sy\"\"\""
   ]
  },
  {
   "cell_type": "code",
   "execution_count": 82,
   "id": "02b7865f-0bcd-4336-995b-fb363c1af564",
   "metadata": {},
   "outputs": [],
   "source": [
    "doc3 = nlp(a)"
   ]
  },
  {
   "cell_type": "code",
   "execution_count": 88,
   "id": "383c98df-c92c-45da-b1ba-1fd44532f72c",
   "metadata": {},
   "outputs": [],
   "source": [
    "# append using logical and equality operator\n",
    "final = []\n",
    "for i in doc3:\n",
    "    if i.pos_ == \"VERB\" or i.pos_ == \"ADVERB\" or i.pos_ == \"ADJ\":\n",
    "        final.append(i)"
   ]
  },
  {
   "cell_type": "code",
   "execution_count": 89,
   "id": "dc0609a5-eede-46e8-8f62-2a2caf6e3113",
   "metadata": {},
   "outputs": [
    {
     "data": {
      "text/plain": [
       "[stored,\n",
       " backend,\n",
       " associated,\n",
       " unique,\n",
       " serves,\n",
       " primary,\n",
       " allows,\n",
       " fast,\n",
       " efficient,\n",
       " based,\n",
       " stored,\n",
       " utilized,\n",
       " various,\n",
       " use,\n",
       " retrieve,\n",
       " specific,\n",
       " backend,\n",
       " processing]"
      ]
     },
     "execution_count": 89,
     "metadata": {},
     "output_type": "execute_result"
    }
   ],
   "source": [
    "final"
   ]
  },
  {
   "cell_type": "code",
   "execution_count": 90,
   "id": "f354fd41-f218-4d19-b4f1-47323a50057c",
   "metadata": {},
   "outputs": [],
   "source": [
    "# append using membership operator same output\n",
    "final = []\n",
    "for i in doc3:\n",
    "    if i.pos_ in (\"VERB\",\"ADVERB\",\"ADJ\"):\n",
    "        final.append(i)"
   ]
  },
  {
   "cell_type": "code",
   "execution_count": 91,
   "id": "9afc787b-cdea-4eaa-8545-c025968d1eaf",
   "metadata": {},
   "outputs": [
    {
     "data": {
      "text/plain": [
       "[stored,\n",
       " backend,\n",
       " associated,\n",
       " unique,\n",
       " serves,\n",
       " primary,\n",
       " allows,\n",
       " fast,\n",
       " efficient,\n",
       " based,\n",
       " stored,\n",
       " utilized,\n",
       " various,\n",
       " use,\n",
       " retrieve,\n",
       " specific,\n",
       " backend,\n",
       " processing]"
      ]
     },
     "execution_count": 91,
     "metadata": {},
     "output_type": "execute_result"
    }
   ],
   "source": [
    "final"
   ]
  },
  {
   "cell_type": "code",
   "execution_count": 94,
   "id": "bbf0f9bd-74ae-48c7-8260-d36030e8b004",
   "metadata": {},
   "outputs": [
    {
     "name": "stdout",
     "output_type": "stream",
     "text": [
      "[stored, backend, associated, unique, serves, primary, allows, fast, efficient, based, stored, utilized, various, use, retrieve, specific, backend, processing]\n"
     ]
    }
   ],
   "source": [
    "# append using membership operator opposite output\n",
    "final = []\n",
    "for i in doc3:\n",
    "    if i.pos_ in (\"VERB\",\"ADVERB\",\"ADJ\"):\n",
    "        final.append(i)\n",
    "print(final)"
   ]
  },
  {
   "cell_type": "code",
   "execution_count": 95,
   "id": "81726111-e6cf-4508-a361-2aa1f2a46364",
   "metadata": {},
   "outputs": [
    {
     "data": {
      "text/plain": [
       "[stored,\n",
       " backend,\n",
       " associated,\n",
       " unique,\n",
       " serves,\n",
       " primary,\n",
       " allows,\n",
       " fast,\n",
       " efficient,\n",
       " based,\n",
       " stored,\n",
       " utilized,\n",
       " various,\n",
       " use,\n",
       " retrieve,\n",
       " specific,\n",
       " backend,\n",
       " processing]"
      ]
     },
     "execution_count": 95,
     "metadata": {},
     "output_type": "execute_result"
    }
   ],
   "source": [
    "final"
   ]
  },
  {
   "cell_type": "code",
   "execution_count": 98,
   "id": "c23e6d24-7fd6-4bd7-89af-6118e9b67462",
   "metadata": {},
   "outputs": [
    {
     "data": {
      "text/plain": [
       "{92: 29,\n",
       " 87: 5,\n",
       " 86: 1,\n",
       " 100: 10,\n",
       " 85: 15,\n",
       " 90: 10,\n",
       " 84: 8,\n",
       " 97: 11,\n",
       " 103: 5,\n",
       " 96: 3,\n",
       " 95: 3,\n",
       " 89: 4,\n",
       " 94: 1,\n",
       " 98: 1}"
      ]
     },
     "execution_count": 98,
     "metadata": {},
     "output_type": "execute_result"
    }
   ],
   "source": [
    "count = doc3.count_by(spacy.attrs.POS)\n",
    "count"
   ]
  },
  {
   "cell_type": "code",
   "execution_count": 100,
   "id": "821ab607-6fa3-44d1-bf6a-85458f1c4070",
   "metadata": {},
   "outputs": [
    {
     "data": {
      "text/plain": [
       "'ADJ'"
      ]
     },
     "execution_count": 100,
     "metadata": {},
     "output_type": "execute_result"
    }
   ],
   "source": [
    "doc.vocab[84].text"
   ]
  },
  {
   "cell_type": "code",
   "execution_count": 102,
   "id": "c022e8a9-e455-4e8b-b8e6-9a34413b40a2",
   "metadata": {},
   "outputs": [
    {
     "name": "stdout",
     "output_type": "stream",
     "text": [
      "NOUN\n",
      "AUX\n",
      "ADV\n",
      "VERB\n",
      "ADP\n",
      "DET\n",
      "ADJ\n",
      "PUNCT\n",
      "SPACE\n",
      "PROPN\n",
      "PRON\n",
      "CCONJ\n",
      "PART\n",
      "SCONJ\n"
     ]
    }
   ],
   "source": [
    "for i in count.keys():\n",
    "    print(doc.vocab[i].text)"
   ]
  },
  {
   "cell_type": "code",
   "execution_count": 141,
   "id": "a7c72fd5-af1d-4bec-9028-d8382847a82d",
   "metadata": {},
   "outputs": [
    {
     "name": "stdout",
     "output_type": "stream",
     "text": [
      "PROPN : 4\n",
      "PUNCT : 1\n",
      "NOUN : 3\n",
      "VERB : 1\n",
      "SYM : 1\n",
      "NUM : 3\n",
      "ADP : 1\n"
     ]
    }
   ],
   "source": [
    "for i,j in count.items():\n",
    "    print(doc.vocab[i].text,\":\",j)"
   ]
  },
  {
   "cell_type": "code",
   "execution_count": 145,
   "id": "8a7c10df-3ec0-44e9-bc90-a42b1af0ca68",
   "metadata": {},
   "outputs": [
    {
     "name": "stdout",
     "output_type": "stream",
     "text": [
      "PROPN : 4\n",
      "PUNCT : 1\n",
      "NOUN : 3\n",
      "VERB : 1\n",
      "SYM : 1\n",
      "NUM : 3\n",
      "ADP : 1\n"
     ]
    }
   ],
   "source": [
    "count = doc2.count_by(spacy.attrs.POS)\n",
    "for pos_id ,i in count.items():\n",
    "    pos_label = doc2.vocab[pos_id].text\n",
    "    print(pos_label,\":\",i)"
   ]
  },
  {
   "cell_type": "markdown",
   "id": "e7a91be0-0e4b-40d9-9d77-1e473645172e",
   "metadata": {},
   "source": [
    "# NER"
   ]
  },
  {
   "cell_type": "raw",
   "id": "48983ac5-a19a-4db6-b35b-0cfae3bb762a",
   "metadata": {},
   "source": [
    "NER - name entity recognition"
   ]
  },
  {
   "cell_type": "code",
   "execution_count": null,
   "id": "2c7a05d1-6295-4b1d-a43d-4c54f5aa08e1",
   "metadata": {},
   "outputs": [],
   "source": [
    "# north west\n",
    "# north kayne west"
   ]
  },
  {
   "cell_type": "markdown",
   "id": "1c5e8ca1-51fe-46ce-a535-00a5a4bcada2",
   "metadata": {},
   "source": [
    "# Pipeline"
   ]
  },
  {
   "cell_type": "code",
   "execution_count": 106,
   "id": "70c65cf0-c7cb-4ee4-a839-7f5100759df7",
   "metadata": {},
   "outputs": [],
   "source": [
    "doc4 = nlp(\"Tesla INC is going to aquire Twitter for $455 billion.\")"
   ]
  },
  {
   "cell_type": "code",
   "execution_count": 109,
   "id": "b83f92f8-0d8f-4fa7-bc6d-fa19e789194e",
   "metadata": {},
   "outputs": [
    {
     "data": {
      "text/plain": [
       "Tesla INC"
      ]
     },
     "execution_count": 109,
     "metadata": {},
     "output_type": "execute_result"
    }
   ],
   "source": [
    "doc4.ents[0]"
   ]
  },
  {
   "cell_type": "code",
   "execution_count": 110,
   "id": "04017813-c20c-4a8e-82fe-7d556c1a6eb4",
   "metadata": {},
   "outputs": [
    {
     "data": {
      "text/plain": [
       "Twitter"
      ]
     },
     "execution_count": 110,
     "metadata": {},
     "output_type": "execute_result"
    }
   ],
   "source": [
    "doc4.ents[1]"
   ]
  },
  {
   "cell_type": "code",
   "execution_count": 111,
   "id": "6c71cd31-9356-4693-be8d-079f4eb1f9e0",
   "metadata": {},
   "outputs": [
    {
     "data": {
      "text/plain": [
       "$455 billion"
      ]
     },
     "execution_count": 111,
     "metadata": {},
     "output_type": "execute_result"
    }
   ],
   "source": [
    "doc4.ents[2]"
   ]
  },
  {
   "cell_type": "code",
   "execution_count": 114,
   "id": "16d6cebc-9f92-4e3f-9732-8828c4c353ee",
   "metadata": {},
   "outputs": [
    {
     "name": "stdout",
     "output_type": "stream",
     "text": [
      "Tesla : 0\n",
      "INC : 1\n",
      "is : 2\n",
      "going : 3\n",
      "to : 4\n",
      "acquire : 5\n",
      "Twitter : 6\n",
      "for : 7\n",
      "$ : 8\n",
      "455 : 9\n",
      "billion : 10\n",
      ". : 11\n"
     ]
    }
   ],
   "source": [
    "# access index in nlp\n",
    "doc4 = nlp(\"Tesla INC is going to acquire Twitter for $455 billion.\")\n",
    "for i in doc4:\n",
    "    print(i.text, \":\", i.i)\n"
   ]
  },
  {
   "cell_type": "code",
   "execution_count": 115,
   "id": "b27c437c-08fe-4956-ac54-09adebd99734",
   "metadata": {},
   "outputs": [
    {
     "name": "stdout",
     "output_type": "stream",
     "text": [
      "Ds : 0\n",
      "are : 1\n",
      "typically : 2\n",
      "stored : 3\n",
      "in : 4\n",
      "the : 5\n",
      "backend : 6\n",
      "database : 7\n",
      "as : 8\n",
      "part : 9\n",
      "of : 10\n",
      "the : 11\n",
      "data : 12\n",
      "schema : 13\n",
      ". : 14\n",
      "\n",
      " : 15\n",
      "Each : 16\n",
      "entity : 17\n",
      "within : 18\n",
      "the : 19\n",
      "database : 20\n",
      "is : 21\n",
      "associated : 22\n",
      "with : 23\n",
      "a : 24\n",
      "unique : 25\n",
      "ID : 26\n",
      "field : 27\n",
      ", : 28\n",
      "which : 29\n",
      "serves : 30\n",
      "as : 31\n",
      "its : 32\n",
      "primary : 33\n",
      "key : 34\n",
      ". : 35\n",
      "\n",
      " : 36\n",
      "This : 37\n",
      "allows : 38\n",
      "for : 39\n",
      "fast : 40\n",
      "and : 41\n",
      "efficient : 42\n",
      "querying : 43\n",
      ", : 44\n",
      "indexing : 45\n",
      ", : 46\n",
      "and : 47\n",
      "retrieval : 48\n",
      "of : 49\n",
      "data : 50\n",
      "based : 51\n",
      "on : 52\n",
      "these : 53\n",
      "IDs : 54\n",
      ". : 55\n",
      "\n",
      " : 56\n",
      "In : 57\n",
      "the : 58\n",
      "context : 59\n",
      "of : 60\n",
      "NLP : 61\n",
      ", : 62\n",
      "IDs : 63\n",
      "stored : 64\n",
      "in : 65\n",
      "the : 66\n",
      "backend : 67\n",
      "may : 68\n",
      "be : 69\n",
      "utilized : 70\n",
      "in : 71\n",
      "various : 72\n",
      "ways : 73\n",
      ": : 74\n",
      "\n",
      "  : 75\n",
      "NLP : 76\n",
      "systems : 77\n",
      "may : 78\n",
      "use : 79\n",
      "IDs : 80\n",
      "to : 81\n",
      "retrieve : 82\n",
      "specific : 83\n",
      "data : 84\n",
      "or : 85\n",
      "records : 86\n",
      "from : 87\n",
      "the : 88\n",
      "backend : 89\n",
      "database : 90\n",
      ". : 91\n",
      "\n",
      "  : 92\n",
      "For : 93\n",
      "example : 94\n",
      ", : 95\n",
      "when : 96\n",
      "processing : 97\n",
      "user : 98\n",
      "queries : 99\n",
      "or : 100\n",
      "commands : 101\n",
      ", : 102\n",
      "the : 103\n",
      "NLP : 104\n",
      "sy : 105\n"
     ]
    }
   ],
   "source": [
    "for i in doc3:\n",
    "    print(i.text,\":\",i.i)"
   ]
  },
  {
   "cell_type": "code",
   "execution_count": 130,
   "id": "866b1492-2270-4c51-89af-1104c4b450e6",
   "metadata": {},
   "outputs": [],
   "source": [
    "final = []\n",
    "for i in doc3:\n",
    "    if i.pos_ == \"NOUN\":\n",
    "        final.append(i)"
   ]
  },
  {
   "cell_type": "code",
   "execution_count": 131,
   "id": "638a337d-1278-42fa-a3e6-f1d4be162ec4",
   "metadata": {},
   "outputs": [
    {
     "data": {
      "text/plain": [
       "[Ds,\n",
       " database,\n",
       " part,\n",
       " data,\n",
       " schema,\n",
       " entity,\n",
       " database,\n",
       " field,\n",
       " key,\n",
       " querying,\n",
       " indexing,\n",
       " retrieval,\n",
       " data,\n",
       " IDs,\n",
       " context,\n",
       " IDs,\n",
       " backend,\n",
       " ways,\n",
       " NLP,\n",
       " systems,\n",
       " IDs,\n",
       " data,\n",
       " records,\n",
       " database,\n",
       " example,\n",
       " user,\n",
       " queries,\n",
       " commands,\n",
       " sy]"
      ]
     },
     "execution_count": 131,
     "metadata": {},
     "output_type": "execute_result"
    }
   ],
   "source": [
    "final"
   ]
  },
  {
   "cell_type": "code",
   "execution_count": 128,
   "id": "bd1ba10a-650c-4f72-af31-7927d89a2b15",
   "metadata": {},
   "outputs": [],
   "source": [
    "final = []\n",
    "for i in doc4:\n",
    "    if i.pos_ == \"VERB\":\n",
    "        final.append(i)"
   ]
  },
  {
   "cell_type": "code",
   "execution_count": 129,
   "id": "b467eae0-2d34-4b9a-9f68-829818a6f2d8",
   "metadata": {},
   "outputs": [
    {
     "data": {
      "text/plain": [
       "[going, aquire]"
      ]
     },
     "execution_count": 129,
     "metadata": {},
     "output_type": "execute_result"
    }
   ],
   "source": [
    "final"
   ]
  },
  {
   "cell_type": "code",
   "execution_count": 133,
   "id": "9ed7a363-e9cf-45c6-9f58-1cdf871c512b",
   "metadata": {},
   "outputs": [
    {
     "name": "stdout",
     "output_type": "stream",
     "text": [
      "Tesla INC : ORG : Companies, agencies, institutions, etc.\n",
      "Twitter : PRODUCT : Objects, vehicles, foods, etc. (not services)\n",
      "$455 billion : MONEY : Monetary values, including unit\n"
     ]
    }
   ],
   "source": [
    "for i in doc4.ents:\n",
    "    print(i.text,\":\",i.label_,\":\",spacy.explain(i.label_))"
   ]
  },
  {
   "cell_type": "code",
   "execution_count": 135,
   "id": "ea28d3cd-78a2-41fd-894d-22172e74e986",
   "metadata": {},
   "outputs": [],
   "source": [
    "from spacy import displacy"
   ]
  },
  {
   "cell_type": "code",
   "execution_count": 137,
   "id": "3c502a14-3c9b-4fe6-b589-e9d0b852a14d",
   "metadata": {},
   "outputs": [
    {
     "data": {
      "text/html": [
       "<span class=\"tex2jax_ignore\"><div class=\"entities\" style=\"line-height: 2.5; direction: ltr\">\n",
       "<mark class=\"entity\" style=\"background: #7aecec; padding: 0.45em 0.6em; margin: 0 0.25em; line-height: 1; border-radius: 0.35em;\">\n",
       "    Tesla INC\n",
       "    <span style=\"font-size: 0.8em; font-weight: bold; line-height: 1; border-radius: 0.35em; vertical-align: middle; margin-left: 0.5rem\">ORG</span>\n",
       "</mark>\n",
       " is going to aquire \n",
       "<mark class=\"entity\" style=\"background: #bfeeb7; padding: 0.45em 0.6em; margin: 0 0.25em; line-height: 1; border-radius: 0.35em;\">\n",
       "    Twitter\n",
       "    <span style=\"font-size: 0.8em; font-weight: bold; line-height: 1; border-radius: 0.35em; vertical-align: middle; margin-left: 0.5rem\">PRODUCT</span>\n",
       "</mark>\n",
       " for \n",
       "<mark class=\"entity\" style=\"background: #e4e7d2; padding: 0.45em 0.6em; margin: 0 0.25em; line-height: 1; border-radius: 0.35em;\">\n",
       "    $455 billion\n",
       "    <span style=\"font-size: 0.8em; font-weight: bold; line-height: 1; border-radius: 0.35em; vertical-align: middle; margin-left: 0.5rem\">MONEY</span>\n",
       "</mark>\n",
       ".</div></span>"
      ],
      "text/plain": [
       "<IPython.core.display.HTML object>"
      ]
     },
     "metadata": {},
     "output_type": "display_data"
    }
   ],
   "source": [
    "displacy.render(doc4,style=\"ent\")"
   ]
  },
  {
   "cell_type": "code",
   "execution_count": 138,
   "id": "bffa6ced-d284-4b63-bc8b-92d97a8a81ba",
   "metadata": {},
   "outputs": [
    {
     "data": {
      "text/html": [
       "<span class=\"tex2jax_ignore\"><svg xmlns=\"http://www.w3.org/2000/svg\" xmlns:xlink=\"http://www.w3.org/1999/xlink\" xml:lang=\"en\" id=\"3d7c96a3ee654fe0b629f0a6d2be0ce7-0\" class=\"displacy\" width=\"1975\" height=\"399.5\" direction=\"ltr\" style=\"max-width: none; height: 399.5px; color: #000000; background: #ffffff; font-family: Arial; direction: ltr\">\n",
       "<text class=\"displacy-token\" fill=\"currentColor\" text-anchor=\"middle\" y=\"309.5\">\n",
       "    <tspan class=\"displacy-word\" fill=\"currentColor\" x=\"50\">Tesla</tspan>\n",
       "    <tspan class=\"displacy-tag\" dy=\"2em\" fill=\"currentColor\" x=\"50\">PROPN</tspan>\n",
       "</text>\n",
       "\n",
       "<text class=\"displacy-token\" fill=\"currentColor\" text-anchor=\"middle\" y=\"309.5\">\n",
       "    <tspan class=\"displacy-word\" fill=\"currentColor\" x=\"225\">INC</tspan>\n",
       "    <tspan class=\"displacy-tag\" dy=\"2em\" fill=\"currentColor\" x=\"225\">PROPN</tspan>\n",
       "</text>\n",
       "\n",
       "<text class=\"displacy-token\" fill=\"currentColor\" text-anchor=\"middle\" y=\"309.5\">\n",
       "    <tspan class=\"displacy-word\" fill=\"currentColor\" x=\"400\">is</tspan>\n",
       "    <tspan class=\"displacy-tag\" dy=\"2em\" fill=\"currentColor\" x=\"400\">AUX</tspan>\n",
       "</text>\n",
       "\n",
       "<text class=\"displacy-token\" fill=\"currentColor\" text-anchor=\"middle\" y=\"309.5\">\n",
       "    <tspan class=\"displacy-word\" fill=\"currentColor\" x=\"575\">going</tspan>\n",
       "    <tspan class=\"displacy-tag\" dy=\"2em\" fill=\"currentColor\" x=\"575\">VERB</tspan>\n",
       "</text>\n",
       "\n",
       "<text class=\"displacy-token\" fill=\"currentColor\" text-anchor=\"middle\" y=\"309.5\">\n",
       "    <tspan class=\"displacy-word\" fill=\"currentColor\" x=\"750\">to</tspan>\n",
       "    <tspan class=\"displacy-tag\" dy=\"2em\" fill=\"currentColor\" x=\"750\">PART</tspan>\n",
       "</text>\n",
       "\n",
       "<text class=\"displacy-token\" fill=\"currentColor\" text-anchor=\"middle\" y=\"309.5\">\n",
       "    <tspan class=\"displacy-word\" fill=\"currentColor\" x=\"925\">aquire</tspan>\n",
       "    <tspan class=\"displacy-tag\" dy=\"2em\" fill=\"currentColor\" x=\"925\">VERB</tspan>\n",
       "</text>\n",
       "\n",
       "<text class=\"displacy-token\" fill=\"currentColor\" text-anchor=\"middle\" y=\"309.5\">\n",
       "    <tspan class=\"displacy-word\" fill=\"currentColor\" x=\"1100\">Twitter</tspan>\n",
       "    <tspan class=\"displacy-tag\" dy=\"2em\" fill=\"currentColor\" x=\"1100\">PROPN</tspan>\n",
       "</text>\n",
       "\n",
       "<text class=\"displacy-token\" fill=\"currentColor\" text-anchor=\"middle\" y=\"309.5\">\n",
       "    <tspan class=\"displacy-word\" fill=\"currentColor\" x=\"1275\">for</tspan>\n",
       "    <tspan class=\"displacy-tag\" dy=\"2em\" fill=\"currentColor\" x=\"1275\">ADP</tspan>\n",
       "</text>\n",
       "\n",
       "<text class=\"displacy-token\" fill=\"currentColor\" text-anchor=\"middle\" y=\"309.5\">\n",
       "    <tspan class=\"displacy-word\" fill=\"currentColor\" x=\"1450\">$</tspan>\n",
       "    <tspan class=\"displacy-tag\" dy=\"2em\" fill=\"currentColor\" x=\"1450\">SYM</tspan>\n",
       "</text>\n",
       "\n",
       "<text class=\"displacy-token\" fill=\"currentColor\" text-anchor=\"middle\" y=\"309.5\">\n",
       "    <tspan class=\"displacy-word\" fill=\"currentColor\" x=\"1625\">455</tspan>\n",
       "    <tspan class=\"displacy-tag\" dy=\"2em\" fill=\"currentColor\" x=\"1625\">NUM</tspan>\n",
       "</text>\n",
       "\n",
       "<text class=\"displacy-token\" fill=\"currentColor\" text-anchor=\"middle\" y=\"309.5\">\n",
       "    <tspan class=\"displacy-word\" fill=\"currentColor\" x=\"1800\">billion.</tspan>\n",
       "    <tspan class=\"displacy-tag\" dy=\"2em\" fill=\"currentColor\" x=\"1800\">NUM</tspan>\n",
       "</text>\n",
       "\n",
       "<g class=\"displacy-arrow\">\n",
       "    <path class=\"displacy-arc\" id=\"arrow-3d7c96a3ee654fe0b629f0a6d2be0ce7-0-0\" stroke-width=\"2px\" d=\"M70,264.5 C70,177.0 215.0,177.0 215.0,264.5\" fill=\"none\" stroke=\"currentColor\"/>\n",
       "    <text dy=\"1.25em\" style=\"font-size: 0.8em; letter-spacing: 1px\">\n",
       "        <textPath xlink:href=\"#arrow-3d7c96a3ee654fe0b629f0a6d2be0ce7-0-0\" class=\"displacy-label\" startOffset=\"50%\" side=\"left\" fill=\"currentColor\" text-anchor=\"middle\">compound</textPath>\n",
       "    </text>\n",
       "    <path class=\"displacy-arrowhead\" d=\"M70,266.5 L62,254.5 78,254.5\" fill=\"currentColor\"/>\n",
       "</g>\n",
       "\n",
       "<g class=\"displacy-arrow\">\n",
       "    <path class=\"displacy-arc\" id=\"arrow-3d7c96a3ee654fe0b629f0a6d2be0ce7-0-1\" stroke-width=\"2px\" d=\"M245,264.5 C245,89.5 570.0,89.5 570.0,264.5\" fill=\"none\" stroke=\"currentColor\"/>\n",
       "    <text dy=\"1.25em\" style=\"font-size: 0.8em; letter-spacing: 1px\">\n",
       "        <textPath xlink:href=\"#arrow-3d7c96a3ee654fe0b629f0a6d2be0ce7-0-1\" class=\"displacy-label\" startOffset=\"50%\" side=\"left\" fill=\"currentColor\" text-anchor=\"middle\">nsubj</textPath>\n",
       "    </text>\n",
       "    <path class=\"displacy-arrowhead\" d=\"M245,266.5 L237,254.5 253,254.5\" fill=\"currentColor\"/>\n",
       "</g>\n",
       "\n",
       "<g class=\"displacy-arrow\">\n",
       "    <path class=\"displacy-arc\" id=\"arrow-3d7c96a3ee654fe0b629f0a6d2be0ce7-0-2\" stroke-width=\"2px\" d=\"M420,264.5 C420,177.0 565.0,177.0 565.0,264.5\" fill=\"none\" stroke=\"currentColor\"/>\n",
       "    <text dy=\"1.25em\" style=\"font-size: 0.8em; letter-spacing: 1px\">\n",
       "        <textPath xlink:href=\"#arrow-3d7c96a3ee654fe0b629f0a6d2be0ce7-0-2\" class=\"displacy-label\" startOffset=\"50%\" side=\"left\" fill=\"currentColor\" text-anchor=\"middle\">aux</textPath>\n",
       "    </text>\n",
       "    <path class=\"displacy-arrowhead\" d=\"M420,266.5 L412,254.5 428,254.5\" fill=\"currentColor\"/>\n",
       "</g>\n",
       "\n",
       "<g class=\"displacy-arrow\">\n",
       "    <path class=\"displacy-arc\" id=\"arrow-3d7c96a3ee654fe0b629f0a6d2be0ce7-0-3\" stroke-width=\"2px\" d=\"M770,264.5 C770,177.0 915.0,177.0 915.0,264.5\" fill=\"none\" stroke=\"currentColor\"/>\n",
       "    <text dy=\"1.25em\" style=\"font-size: 0.8em; letter-spacing: 1px\">\n",
       "        <textPath xlink:href=\"#arrow-3d7c96a3ee654fe0b629f0a6d2be0ce7-0-3\" class=\"displacy-label\" startOffset=\"50%\" side=\"left\" fill=\"currentColor\" text-anchor=\"middle\">aux</textPath>\n",
       "    </text>\n",
       "    <path class=\"displacy-arrowhead\" d=\"M770,266.5 L762,254.5 778,254.5\" fill=\"currentColor\"/>\n",
       "</g>\n",
       "\n",
       "<g class=\"displacy-arrow\">\n",
       "    <path class=\"displacy-arc\" id=\"arrow-3d7c96a3ee654fe0b629f0a6d2be0ce7-0-4\" stroke-width=\"2px\" d=\"M595,264.5 C595,89.5 920.0,89.5 920.0,264.5\" fill=\"none\" stroke=\"currentColor\"/>\n",
       "    <text dy=\"1.25em\" style=\"font-size: 0.8em; letter-spacing: 1px\">\n",
       "        <textPath xlink:href=\"#arrow-3d7c96a3ee654fe0b629f0a6d2be0ce7-0-4\" class=\"displacy-label\" startOffset=\"50%\" side=\"left\" fill=\"currentColor\" text-anchor=\"middle\">xcomp</textPath>\n",
       "    </text>\n",
       "    <path class=\"displacy-arrowhead\" d=\"M920.0,266.5 L928.0,254.5 912.0,254.5\" fill=\"currentColor\"/>\n",
       "</g>\n",
       "\n",
       "<g class=\"displacy-arrow\">\n",
       "    <path class=\"displacy-arc\" id=\"arrow-3d7c96a3ee654fe0b629f0a6d2be0ce7-0-5\" stroke-width=\"2px\" d=\"M945,264.5 C945,177.0 1090.0,177.0 1090.0,264.5\" fill=\"none\" stroke=\"currentColor\"/>\n",
       "    <text dy=\"1.25em\" style=\"font-size: 0.8em; letter-spacing: 1px\">\n",
       "        <textPath xlink:href=\"#arrow-3d7c96a3ee654fe0b629f0a6d2be0ce7-0-5\" class=\"displacy-label\" startOffset=\"50%\" side=\"left\" fill=\"currentColor\" text-anchor=\"middle\">dobj</textPath>\n",
       "    </text>\n",
       "    <path class=\"displacy-arrowhead\" d=\"M1090.0,266.5 L1098.0,254.5 1082.0,254.5\" fill=\"currentColor\"/>\n",
       "</g>\n",
       "\n",
       "<g class=\"displacy-arrow\">\n",
       "    <path class=\"displacy-arc\" id=\"arrow-3d7c96a3ee654fe0b629f0a6d2be0ce7-0-6\" stroke-width=\"2px\" d=\"M945,264.5 C945,89.5 1270.0,89.5 1270.0,264.5\" fill=\"none\" stroke=\"currentColor\"/>\n",
       "    <text dy=\"1.25em\" style=\"font-size: 0.8em; letter-spacing: 1px\">\n",
       "        <textPath xlink:href=\"#arrow-3d7c96a3ee654fe0b629f0a6d2be0ce7-0-6\" class=\"displacy-label\" startOffset=\"50%\" side=\"left\" fill=\"currentColor\" text-anchor=\"middle\">prep</textPath>\n",
       "    </text>\n",
       "    <path class=\"displacy-arrowhead\" d=\"M1270.0,266.5 L1278.0,254.5 1262.0,254.5\" fill=\"currentColor\"/>\n",
       "</g>\n",
       "\n",
       "<g class=\"displacy-arrow\">\n",
       "    <path class=\"displacy-arc\" id=\"arrow-3d7c96a3ee654fe0b629f0a6d2be0ce7-0-7\" stroke-width=\"2px\" d=\"M1470,264.5 C1470,89.5 1795.0,89.5 1795.0,264.5\" fill=\"none\" stroke=\"currentColor\"/>\n",
       "    <text dy=\"1.25em\" style=\"font-size: 0.8em; letter-spacing: 1px\">\n",
       "        <textPath xlink:href=\"#arrow-3d7c96a3ee654fe0b629f0a6d2be0ce7-0-7\" class=\"displacy-label\" startOffset=\"50%\" side=\"left\" fill=\"currentColor\" text-anchor=\"middle\">quantmod</textPath>\n",
       "    </text>\n",
       "    <path class=\"displacy-arrowhead\" d=\"M1470,266.5 L1462,254.5 1478,254.5\" fill=\"currentColor\"/>\n",
       "</g>\n",
       "\n",
       "<g class=\"displacy-arrow\">\n",
       "    <path class=\"displacy-arc\" id=\"arrow-3d7c96a3ee654fe0b629f0a6d2be0ce7-0-8\" stroke-width=\"2px\" d=\"M1645,264.5 C1645,177.0 1790.0,177.0 1790.0,264.5\" fill=\"none\" stroke=\"currentColor\"/>\n",
       "    <text dy=\"1.25em\" style=\"font-size: 0.8em; letter-spacing: 1px\">\n",
       "        <textPath xlink:href=\"#arrow-3d7c96a3ee654fe0b629f0a6d2be0ce7-0-8\" class=\"displacy-label\" startOffset=\"50%\" side=\"left\" fill=\"currentColor\" text-anchor=\"middle\">compound</textPath>\n",
       "    </text>\n",
       "    <path class=\"displacy-arrowhead\" d=\"M1645,266.5 L1637,254.5 1653,254.5\" fill=\"currentColor\"/>\n",
       "</g>\n",
       "\n",
       "<g class=\"displacy-arrow\">\n",
       "    <path class=\"displacy-arc\" id=\"arrow-3d7c96a3ee654fe0b629f0a6d2be0ce7-0-9\" stroke-width=\"2px\" d=\"M1295,264.5 C1295,2.0 1800.0,2.0 1800.0,264.5\" fill=\"none\" stroke=\"currentColor\"/>\n",
       "    <text dy=\"1.25em\" style=\"font-size: 0.8em; letter-spacing: 1px\">\n",
       "        <textPath xlink:href=\"#arrow-3d7c96a3ee654fe0b629f0a6d2be0ce7-0-9\" class=\"displacy-label\" startOffset=\"50%\" side=\"left\" fill=\"currentColor\" text-anchor=\"middle\">pobj</textPath>\n",
       "    </text>\n",
       "    <path class=\"displacy-arrowhead\" d=\"M1800.0,266.5 L1808.0,254.5 1792.0,254.5\" fill=\"currentColor\"/>\n",
       "</g>\n",
       "</svg></span>"
      ],
      "text/plain": [
       "<IPython.core.display.HTML object>"
      ]
     },
     "metadata": {},
     "output_type": "display_data"
    }
   ],
   "source": [
    "displacy.render(doc4,style=\"dep\")"
   ]
  },
  {
   "cell_type": "code",
   "execution_count": null,
   "id": "989ea48a-fcf4-4e93-bc4a-bd05826a8524",
   "metadata": {},
   "outputs": [],
   "source": []
  }
 ],
 "metadata": {
  "kernelspec": {
   "display_name": "Python 3 (ipykernel)",
   "language": "python",
   "name": "python3"
  },
  "language_info": {
   "codemirror_mode": {
    "name": "ipython",
    "version": 3
   },
   "file_extension": ".py",
   "mimetype": "text/x-python",
   "name": "python",
   "nbconvert_exporter": "python",
   "pygments_lexer": "ipython3",
   "version": "3.11.7"
  },
  "widgets": {
   "application/vnd.jupyter.widget-state+json": {
    "state": {},
    "version_major": 2,
    "version_minor": 0
   }
  }
 },
 "nbformat": 4,
 "nbformat_minor": 5
}
